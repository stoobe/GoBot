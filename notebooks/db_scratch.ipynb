{
 "cells": [
  {
   "cell_type": "code",
   "execution_count": 1,
   "metadata": {},
   "outputs": [
    {
     "name": "stdout",
     "output_type": "stream",
     "text": [
      "['/Users/stube/Documents/developer/GoBot/notebooks',\n",
      " '/Users/stube/opt/anaconda3/lib/python39.zip',\n",
      " '/Users/stube/opt/anaconda3/lib/python3.9',\n",
      " '/Users/stube/opt/anaconda3/lib/python3.9/lib-dynload',\n",
      " '',\n",
      " '/Users/stube/opt/anaconda3/lib/python3.9/site-packages',\n",
      " '/Users/stube/opt/anaconda3/lib/python3.9/site-packages/aeosa',\n",
      " '/Users/stube/opt/anaconda3/lib/python3.9/site-packages/IPython/extensions',\n",
      " '/Users/stube/.ipython',\n",
      " '/Users/stube/Documents/developer/GoBot/']\n"
     ]
    }
   ],
   "source": [
    "import sys\n",
    "from pprint import pprint\n",
    "from sqlmodel import SQLModel, create_engine\n",
    "\n",
    "\n",
    "workspace = \"/Users/stube/Documents/developer/GoBot/\"\n",
    "if workspace not in sys.path:\n",
    "    sys.path.append(workspace)\n",
    "pprint(sys.path)\n",
    "\n",
    "\n",
    "from go.go_db import GoDB\n",
    "from go.playfab_db import PlayfabDB\n",
    "# import _config_aws as _config\n",
    "import _config\n",
    "\n",
    "\n",
    "engine = create_engine(_config.godb_url, echo=_config.godb_echo, pool_pre_ping=True)\n",
    "\n",
    "SQLModel.metadata.create_all(engine)\n",
    "godb = GoDB(engine=engine)\n",
    "pfdb = PlayfabDB(engine=engine)\n",
    "\n",
    "\n"
   ]
  },
  {
   "cell_type": "code",
   "execution_count": 7,
   "metadata": {},
   "outputs": [
    {
     "name": "stdout",
     "output_type": "stream",
     "text": [
      "is_playfab_str(\"14E017AE65DFDD61\") = True\n",
      "is_playfab_str(\"2189293418489239\") = True\n",
      "is_playfab_str(\"14e017AE65DFDD61\") = False\n",
      "is_playfab_str(\"14E017AE65DFDD611\") = False\n",
      "is_playfab_str(\"14E017AE65DFDD6\") = False\n",
      "is_playfab_str(\"abc\") = False\n",
      "is_playfab_str(\"\") = False\n"
     ]
    },
    {
     "ename": "TypeError",
     "evalue": "expected string or bytes-like object",
     "output_type": "error",
     "traceback": [
      "\u001b[0;31m---------------------------------------------------------------------------\u001b[0m",
      "\u001b[0;31mTypeError\u001b[0m                                 Traceback (most recent call last)",
      "\u001b[0;32m/var/folders/k8/nq68wvmn7sl_xpt_6335__nw0000gn/T/ipykernel_13413/2855964924.py\u001b[0m in \u001b[0;36m<module>\u001b[0;34m\u001b[0m\n\u001b[1;32m      9\u001b[0m \u001b[0mprint\u001b[0m\u001b[0;34m(\u001b[0m\u001b[0;34mf'{is_playfab_str(\"abc\") = }'\u001b[0m\u001b[0;34m)\u001b[0m\u001b[0;34m\u001b[0m\u001b[0;34m\u001b[0m\u001b[0m\n\u001b[1;32m     10\u001b[0m \u001b[0mprint\u001b[0m\u001b[0;34m(\u001b[0m\u001b[0;34mf'{is_playfab_str(\"\") = }'\u001b[0m\u001b[0;34m)\u001b[0m\u001b[0;34m\u001b[0m\u001b[0;34m\u001b[0m\u001b[0m\n\u001b[0;32m---> 11\u001b[0;31m \u001b[0mprint\u001b[0m\u001b[0;34m(\u001b[0m\u001b[0;34mf'{is_playfab_str(None) = }'\u001b[0m\u001b[0;34m)\u001b[0m\u001b[0;34m\u001b[0m\u001b[0;34m\u001b[0m\u001b[0m\n\u001b[0m",
      "\u001b[0;32m~/Documents/developer/GoBot/go/playfab_api.py\u001b[0m in \u001b[0;36mis_playfab_str\u001b[0;34m(s)\u001b[0m\n\u001b[1;32m     28\u001b[0m \u001b[0;32mdef\u001b[0m \u001b[0mis_playfab_str\u001b[0m\u001b[0;34m(\u001b[0m\u001b[0ms\u001b[0m\u001b[0;34m)\u001b[0m\u001b[0;34m:\u001b[0m\u001b[0;34m\u001b[0m\u001b[0;34m\u001b[0m\u001b[0m\n\u001b[1;32m     29\u001b[0m     \u001b[0;32mglobal\u001b[0m \u001b[0mplayfab_pattern\u001b[0m\u001b[0;34m\u001b[0m\u001b[0;34m\u001b[0m\u001b[0m\n\u001b[0;32m---> 30\u001b[0;31m     \u001b[0mm\u001b[0m \u001b[0;34m=\u001b[0m \u001b[0mre\u001b[0m\u001b[0;34m.\u001b[0m\u001b[0mfullmatch\u001b[0m\u001b[0;34m(\u001b[0m\u001b[0mplayfab_pattern\u001b[0m\u001b[0;34m,\u001b[0m \u001b[0ms\u001b[0m\u001b[0;34m)\u001b[0m\u001b[0;34m\u001b[0m\u001b[0;34m\u001b[0m\u001b[0m\n\u001b[0m\u001b[1;32m     31\u001b[0m     \u001b[0;32mif\u001b[0m \u001b[0mm\u001b[0m\u001b[0;34m:\u001b[0m\u001b[0;34m\u001b[0m\u001b[0;34m\u001b[0m\u001b[0m\n\u001b[1;32m     32\u001b[0m         \u001b[0;32mreturn\u001b[0m \u001b[0;32mTrue\u001b[0m\u001b[0;34m\u001b[0m\u001b[0;34m\u001b[0m\u001b[0m\n",
      "\u001b[0;32m~/opt/anaconda3/lib/python3.9/re.py\u001b[0m in \u001b[0;36mfullmatch\u001b[0;34m(pattern, string, flags)\u001b[0m\n\u001b[1;32m    194\u001b[0m     \"\"\"Try to apply the pattern to all of the string, returning\n\u001b[1;32m    195\u001b[0m     a Match object, or None if no match was found.\"\"\"\n\u001b[0;32m--> 196\u001b[0;31m     \u001b[0;32mreturn\u001b[0m \u001b[0m_compile\u001b[0m\u001b[0;34m(\u001b[0m\u001b[0mpattern\u001b[0m\u001b[0;34m,\u001b[0m \u001b[0mflags\u001b[0m\u001b[0;34m)\u001b[0m\u001b[0;34m.\u001b[0m\u001b[0mfullmatch\u001b[0m\u001b[0;34m(\u001b[0m\u001b[0mstring\u001b[0m\u001b[0;34m)\u001b[0m\u001b[0;34m\u001b[0m\u001b[0;34m\u001b[0m\u001b[0m\n\u001b[0m\u001b[1;32m    197\u001b[0m \u001b[0;34m\u001b[0m\u001b[0m\n\u001b[1;32m    198\u001b[0m \u001b[0;32mdef\u001b[0m \u001b[0msearch\u001b[0m\u001b[0;34m(\u001b[0m\u001b[0mpattern\u001b[0m\u001b[0;34m,\u001b[0m \u001b[0mstring\u001b[0m\u001b[0;34m,\u001b[0m \u001b[0mflags\u001b[0m\u001b[0;34m=\u001b[0m\u001b[0;36m0\u001b[0m\u001b[0;34m)\u001b[0m\u001b[0;34m:\u001b[0m\u001b[0;34m\u001b[0m\u001b[0;34m\u001b[0m\u001b[0m\n",
      "\u001b[0;31mTypeError\u001b[0m: expected string or bytes-like object"
     ]
    }
   ],
   "source": [
    "from go.playfab_api import is_playfab_str\n",
    "\n",
    "\n",
    "print(f'{is_playfab_str(\"14E017AE65DFDD61\") = }')\n",
    "print(f'{is_playfab_str(\"2189293418489239\") = }')\n",
    "print(f'{is_playfab_str(\"14e017AE65DFDD61\") = }')\n",
    "print(f'{is_playfab_str(\"14E017AE65DFDD611\") = }')\n",
    "print(f'{is_playfab_str(\"14E017AE65DFDD6\") = }')\n",
    "print(f'{is_playfab_str(\"abc\") = }')\n",
    "print(f'{is_playfab_str(\"\") = }')\n",
    "print(f'{is_playfab_str(None) = }')"
   ]
  },
  {
   "cell_type": "code",
   "execution_count": 11,
   "metadata": {},
   "outputs": [
    {
     "name": "stdout",
     "output_type": "stream",
     "text": [
      "team,514,bobthecookie123\n",
      "BABS for Prezi,3191,GO_STOOOBE, GO~SHoVVTiMeX, GO_BABs\n",
      "Schwingg,2612,GO_SHARK, GO_DocButler, AllTheBaconAndEGGz\n",
      "females,3008,neeeks, VIPxTakeVan, VIPxAniya\n",
      "Chicken dinner part 2,2929,UnsaidRhombus.NB, Winner_54\n",
      "VIP A$Bob,2129,VIPxgiantbob321, vipxace\n",
      "sydrome is down but money is up !,2899,Ry.y, UWU, Magical_Beans\n",
      "Gloami,3240,VIPxGloxi, VIPxNoah, VIPxSami\n",
      "Violation,1741,Barkley, RBL_Goon_1\n",
      "Fallen,2181,WWW_ElliMist, Consesa, WWW_FemboyFallen\n",
      "GoGo Power Ranger,902,GO_Robot\n",
      "Two & A Half Men,2537,Onickss, WWW_Nando_AK, UnQuestionable\n",
      "idk,3588,okkck, SAO_MPBoss, Jester.thecl0wn\n",
      "Manual Breathing,3593,Yeahboiiiiii, SAH1b, APEX_BOBO\n",
      "Mister Rogers,2820,stuje1, portermac, TTP.Chase\n"
     ]
    }
   ],
   "source": [
    "list_teams = '''team (514) -- bobthecookie123\n",
    "BABS for Prezi (3,191) -- GO_STOOOBE, GO~SHoVVTiMeX, GO_BABs\n",
    "Schwingg (2,612) -- GO_SHARK, GO_DocButler, AllTheBaconAndEGGz\n",
    "females (3,008) -- neeeks, VIPxTakeVan, VIPxAniya\n",
    "Chicken dinner part 2 (2,929) -- UnsaidRhombus.NB, Winner_54\n",
    "VIP A$Bob (2,129) -- VIPxgiantbob321, vipxace\n",
    "sydrome is down but money is up ! (2,899) -- Ry.y, UWU, Magical_Beans\n",
    "Gloami (3,240) -- VIPxGloxi, VIPxNoah, VIPxSami\n",
    "Violation (1,741) -- Barkley, RBL_Goon_1\n",
    "Fallen (2,181) -- WWW_ElliMist, Consesa, WWW_FemboyFallen\n",
    "GoGo Power Ranger (902) -- GO_Robot\n",
    "Two & A Half Men (2,537) -- Onickss, WWW_Nando_AK, UnQuestionable\n",
    "idk (3,588) -- okkck, SAO_MPBoss, Jester.thecl0wn\n",
    "Manual Breathing (3,593) -- Yeahboiiiiii, SAH1b, APEX_BOBO\n",
    "Mister Rogers (2,820) -- stuje1, portermac, TTP.Chase'''\n",
    "\n",
    "for line in list_teams.split('\\n'):\n",
    "    line = line.strip()\n",
    "    first,second = line.split(' -- ')\n",
    "    name,rating = first.split('(')\n",
    "    name = name.strip().replace(',','')\n",
    "    rating = int(rating.strip().strip('()').replace(',',''))\n",
    "    print(f'{name},{rating},{second}')\n",
    "\n",
    "\n",
    "'''\n",
    "BABS for Prezi,3191,GO_STOOOBE, GO~SHoVVTiMeX, GO_BABs\n",
    "Schwingg,2612,GO_SHARK, GO_DocButler, AllTheBaconAndEGGz\n",
    "females,3008,neeeks, VIPxTakeVan, VIPxAniya\n",
    "Chicken dinner part 2,2929,UnsaidRhombus.NB, Winner_54\n",
    "VIP A$Bob,2129,VIPxgiantbob321, vipxace\n",
    "sydrome is down but money is up !,2899,Ry.y, UWU, Magical_Beans\n",
    "Gloami,3240,VIPxGloxi, VIPxNoah, VIPxSami\n",
    "Violation,1741,Barkley, RBL_Goon_1\n",
    "Fallen,2181,WWW_ElliMist, Consesa, WWW_FemboyFallen\n",
    "GoGo Power Ranger,902,GO_Robot\n",
    "Two & A Half Men,2537,Onickss, WWW_Nando_AK, UnQuestionable\n",
    "idk,3588,okkck, SAO_MPBoss, Jester.thecl0wn\n",
    "Manual Breathing,3593,Yeahboiiiiii, SAH1b, APEX_BOBO\n",
    "Mister Rogers,2820,stuje1, portermac, TTP.Chase\n",
    "'''"
   ]
  }
 ],
 "metadata": {
  "kernelspec": {
   "display_name": "base",
   "language": "python",
   "name": "python3"
  },
  "language_info": {
   "codemirror_mode": {
    "name": "ipython",
    "version": 3
   },
   "file_extension": ".py",
   "mimetype": "text/x-python",
   "name": "python",
   "nbconvert_exporter": "python",
   "pygments_lexer": "ipython3",
   "version": "3.9.13"
  }
 },
 "nbformat": 4,
 "nbformat_minor": 2
}
