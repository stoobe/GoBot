{
 "cells": [
  {
   "cell_type": "code",
   "execution_count": 7,
   "metadata": {},
   "outputs": [],
   "source": [
    "import sys\n",
    "from pprint import pprint\n",
    "from sqlmodel import SQLModel, create_engine\n",
    "\n",
    " \n",
    "# workspace = \"/Users/stube/Documents/developer/GoBot/\"\n",
    "# if workspace not in sys.path:\n",
    "#     sys.path.append(workspace)\n",
    "# pprint(sys.path)\n",
    "\n",
    "\n",
    "from go.go_db import GoDB\n",
    "from go.playfab_db import PlayfabDB\n",
    "# import _config_aws as _config\n",
    "import _config\n",
    "\n",
    "\n",
    "engine = create_engine(_config.godb_url, echo=_config.godb_echo, pool_pre_ping=True)\n",
    "\n",
    "SQLModel.metadata.create_all(engine)\n",
    "godb = GoDB(engine=engine)\n",
    "pfdb = PlayfabDB(engine=engine)\n",
    "\n",
    "\n"
   ]
  },
  {
   "cell_type": "code",
   "execution_count": 7,
   "metadata": {},
   "outputs": [
    {
     "name": "stdout",
     "output_type": "stream",
     "text": [
      "is_playfab_str(\"14E017AE65DFDD61\") = True\n",
      "is_playfab_str(\"2189293418489239\") = True\n",
      "is_playfab_str(\"14e017AE65DFDD61\") = False\n",
      "is_playfab_str(\"14E017AE65DFDD611\") = False\n",
      "is_playfab_str(\"14E017AE65DFDD6\") = False\n",
      "is_playfab_str(\"abc\") = False\n",
      "is_playfab_str(\"\") = False\n"
     ]
    },
    {
     "ename": "TypeError",
     "evalue": "expected string or bytes-like object",
     "output_type": "error",
     "traceback": [
      "\u001b[0;31m---------------------------------------------------------------------------\u001b[0m",
      "\u001b[0;31mTypeError\u001b[0m                                 Traceback (most recent call last)",
      "\u001b[0;32m/var/folders/k8/nq68wvmn7sl_xpt_6335__nw0000gn/T/ipykernel_13413/2855964924.py\u001b[0m in \u001b[0;36m<module>\u001b[0;34m\u001b[0m\n\u001b[1;32m      9\u001b[0m \u001b[0mprint\u001b[0m\u001b[0;34m(\u001b[0m\u001b[0;34mf'{is_playfab_str(\"abc\") = }'\u001b[0m\u001b[0;34m)\u001b[0m\u001b[0;34m\u001b[0m\u001b[0;34m\u001b[0m\u001b[0m\n\u001b[1;32m     10\u001b[0m \u001b[0mprint\u001b[0m\u001b[0;34m(\u001b[0m\u001b[0;34mf'{is_playfab_str(\"\") = }'\u001b[0m\u001b[0;34m)\u001b[0m\u001b[0;34m\u001b[0m\u001b[0;34m\u001b[0m\u001b[0m\n\u001b[0;32m---> 11\u001b[0;31m \u001b[0mprint\u001b[0m\u001b[0;34m(\u001b[0m\u001b[0;34mf'{is_playfab_str(None) = }'\u001b[0m\u001b[0;34m)\u001b[0m\u001b[0;34m\u001b[0m\u001b[0;34m\u001b[0m\u001b[0m\n\u001b[0m",
      "\u001b[0;32m~/Documents/developer/GoBot/go/playfab_api.py\u001b[0m in \u001b[0;36mis_playfab_str\u001b[0;34m(s)\u001b[0m\n\u001b[1;32m     28\u001b[0m \u001b[0;32mdef\u001b[0m \u001b[0mis_playfab_str\u001b[0m\u001b[0;34m(\u001b[0m\u001b[0ms\u001b[0m\u001b[0;34m)\u001b[0m\u001b[0;34m:\u001b[0m\u001b[0;34m\u001b[0m\u001b[0;34m\u001b[0m\u001b[0m\n\u001b[1;32m     29\u001b[0m     \u001b[0;32mglobal\u001b[0m \u001b[0mplayfab_pattern\u001b[0m\u001b[0;34m\u001b[0m\u001b[0;34m\u001b[0m\u001b[0m\n\u001b[0;32m---> 30\u001b[0;31m     \u001b[0mm\u001b[0m \u001b[0;34m=\u001b[0m \u001b[0mre\u001b[0m\u001b[0;34m.\u001b[0m\u001b[0mfullmatch\u001b[0m\u001b[0;34m(\u001b[0m\u001b[0mplayfab_pattern\u001b[0m\u001b[0;34m,\u001b[0m \u001b[0ms\u001b[0m\u001b[0;34m)\u001b[0m\u001b[0;34m\u001b[0m\u001b[0;34m\u001b[0m\u001b[0m\n\u001b[0m\u001b[1;32m     31\u001b[0m     \u001b[0;32mif\u001b[0m \u001b[0mm\u001b[0m\u001b[0;34m:\u001b[0m\u001b[0;34m\u001b[0m\u001b[0;34m\u001b[0m\u001b[0m\n\u001b[1;32m     32\u001b[0m         \u001b[0;32mreturn\u001b[0m \u001b[0;32mTrue\u001b[0m\u001b[0;34m\u001b[0m\u001b[0;34m\u001b[0m\u001b[0m\n",
      "\u001b[0;32m~/opt/anaconda3/lib/python3.9/re.py\u001b[0m in \u001b[0;36mfullmatch\u001b[0;34m(pattern, string, flags)\u001b[0m\n\u001b[1;32m    194\u001b[0m     \"\"\"Try to apply the pattern to all of the string, returning\n\u001b[1;32m    195\u001b[0m     a Match object, or None if no match was found.\"\"\"\n\u001b[0;32m--> 196\u001b[0;31m     \u001b[0;32mreturn\u001b[0m \u001b[0m_compile\u001b[0m\u001b[0;34m(\u001b[0m\u001b[0mpattern\u001b[0m\u001b[0;34m,\u001b[0m \u001b[0mflags\u001b[0m\u001b[0;34m)\u001b[0m\u001b[0;34m.\u001b[0m\u001b[0mfullmatch\u001b[0m\u001b[0;34m(\u001b[0m\u001b[0mstring\u001b[0m\u001b[0;34m)\u001b[0m\u001b[0;34m\u001b[0m\u001b[0;34m\u001b[0m\u001b[0m\n\u001b[0m\u001b[1;32m    197\u001b[0m \u001b[0;34m\u001b[0m\u001b[0m\n\u001b[1;32m    198\u001b[0m \u001b[0;32mdef\u001b[0m \u001b[0msearch\u001b[0m\u001b[0;34m(\u001b[0m\u001b[0mpattern\u001b[0m\u001b[0;34m,\u001b[0m \u001b[0mstring\u001b[0m\u001b[0;34m,\u001b[0m \u001b[0mflags\u001b[0m\u001b[0;34m=\u001b[0m\u001b[0;36m0\u001b[0m\u001b[0;34m)\u001b[0m\u001b[0;34m:\u001b[0m\u001b[0;34m\u001b[0m\u001b[0;34m\u001b[0m\u001b[0m\n",
      "\u001b[0;31mTypeError\u001b[0m: expected string or bytes-like object"
     ]
    }
   ],
   "source": [
    "from go.playfab_api import is_playfab_str\n",
    "\n",
    "\n",
    "print(f'{is_playfab_str(\"14E017AE65DFDD61\") = }')\n",
    "print(f'{is_playfab_str(\"2189293418489239\") = }')\n",
    "print(f'{is_playfab_str(\"14e017AE65DFDD61\") = }')\n",
    "print(f'{is_playfab_str(\"14E017AE65DFDD611\") = }')\n",
    "print(f'{is_playfab_str(\"14E017AE65DFDD6\") = }')\n",
    "print(f'{is_playfab_str(\"abc\") = }')\n",
    "print(f'{is_playfab_str(\"\") = }')\n",
    "print(f'{is_playfab_str(None) = }')"
   ]
  },
  {
   "cell_type": "code",
   "execution_count": 1,
   "metadata": {},
   "outputs": [
    {
     "name": "stdout",
     "output_type": "stream",
     "text": [
      "GO: Jump the Shark,2611,GO_SHARK, GO-Cronides, GO_DocButler\n",
      "females,3008,neeeks, VIPxTakeVan, VIPxAniya\n",
      "flob,3195,VIPxgiantbob321, VIPxTheFlipSide, VIPxPoppin\n",
      "Easy Pickings,956,AdoboMexicano\n",
      "GO_MO,1323,GO_Lester\n",
      "GO_Charmander,904,GO_BeauTEEful\n",
      "supreme,2236,U_Died, BBQ__WATER\n",
      "ap,2190,SAH1b, APEX_BOBO\n",
      "Goaties,2530,GO_Sapphire2889, GO_Robot, GO_JessHawk3\n",
      "Were Gooder,3433,VIPxPinkPWNAGE, GO_Maverick, xWhisper\n",
      "Violation,1741,Barkley, RBL_Goon_1\n",
      "Hiccup,1577,UnsaidRhombus.NB\n",
      "dream duo,2658,Rasta, okkck\n",
      "SAO Asesinos V,2656,YoPapi, jwam2_SAO, S.A.O. DRACO\n"
     ]
    },
    {
     "data": {
      "text/plain": [
       "'\\nSchwingg,2612,GO_SHARK, GO_DocButler, AllTheBaconAndEGGz\\nWe said NO to Diddy,3130,S_A_O_Jakester001, AG3NT.Z3RO, SAO_MPBoss\\nsupreme,2236,U_Died, BBQ__WATER\\nRom_Watt > win_watt,3344,UnsaidRhombus.NB, Gabe_Watts.NB\\nMister Rogers,2820,stuje1, portermac, TTP.Chase\\nViolation,1741,Barkley, RBL_Goon_1\\nDying Flower,589,xWhisper\\nJust,2795,Mr.HODLGANG, Leo_Bee, TreeTrunkTravis\\nSHoW N’ SMaRTz,2984,GO~SHoVVTiMeX, GO_DrSmartAzz\\nRoyal,1106,TROJR_Trinket, HYX_Wilbur.111678\\nAP 2.0,3170,Monkey_Mann, APEX-JoeyZ23, SAH1b\\nGoGo Power Ranger,902,GO_Robot\\nGabe Who?,3466,SgtSlaughter16.NB, SickMini, shreddymac.nb\\nGO_down,2227,GO_BeauTEEful, GO_Lester\\nFLOB2,3240,VIPxgiantbob321, VIPxJasonStone, VIPxTheFlipSide\\n'"
      ]
     },
     "execution_count": 1,
     "metadata": {},
     "output_type": "execute_result"
    }
   ],
   "source": [
    "list_teams = '''\n",
    "GO: Jump the Shark (2,611) -- GO_SHARK, GO-Cronides, GO_DocButler\n",
    "females (3,008) -- neeeks, VIPxTakeVan, VIPxAniya\n",
    "flob (3,195) -- VIPxgiantbob321, VIPxTheFlipSide, VIPxPoppin\n",
    "Easy Pickings (956) -- AdoboMexicano\n",
    "GO_MO (1,323) -- GO_Lester\n",
    "GO_Charmander (904) -- GO_BeauTEEful\n",
    "supreme (2,236) -- U_Died, BBQ__WATER\n",
    "ap (2,190) -- SAH1b, APEX_BOBO\n",
    "Goaties (2,530) -- GO_Sapphire2889, GO_Robot, GO_JessHawk3\n",
    "Were Gooder (3,433) -- VIPxPinkPWNAGE, GO_Maverick, xWhisper\n",
    "Violation (1,741) -- Barkley, RBL_Goon_1\n",
    "Hiccup (1,577) -- UnsaidRhombus.NB\n",
    "dream duo (2,658) -- Rasta, okkck\n",
    "SAO Asesinos V (2,656) -- YoPapi, jwam2_SAO, S.A.O. DRACO\n",
    "'''\n",
    "\n",
    "for line in list_teams.split('\\n'):\n",
    "    line = line.strip()\n",
    "    if not line: continue\n",
    "    first,second = line.split(' -- ')\n",
    "    name,rating = first.split('(')\n",
    "    name = name.strip().replace(',','')\n",
    "    rating = int(rating.strip().strip('()').replace(',',''))\n",
    "    print(f'{name},{rating},{second}')\n",
    "\"\"\"\n",
    "GO: Jump the Shark,2611,GO_SHARK, GO-Cronides, GO_DocButler\n",
    "females,3008,neeeks, VIPxTakeVan, VIPxAniya\n",
    "flob,3195,VIPxgiantbob321, VIPxTheFlipSide, VIPxPoppin\n",
    "Easy Pickings,956,AdoboMexicano\n",
    "GO_MO,1323,GO_Lester\n",
    "GO_Charmander,904,GO_BeauTEEful\n",
    "supreme,2236,U_Died, BBQ__WATER\n",
    "ap,2190,SAH1b, APEX_BOBO\n",
    "Goaties,2530,GO_Sapphire2889, GO_Robot, GO_JessHawk3\n",
    "Were Gooder,3433,VIPxPinkPWNAGE, GO_Maverick, xWhisper\n",
    "Violation,1741,Barkley, RBL_Goon_1\n",
    "Hiccup,1577,UnsaidRhombus.NB\n",
    "dream duo,2658,Rasta, okkck\n",
    "SAO Asesinos V,2656,YoPapi, jwam2_SAO, S.A.O. DRACO\n",
    "\"\"\""
   ]
  },
  {
   "cell_type": "markdown",
   "metadata": {},
   "source": [
    "RBL,2931,Barkley, RBL_Goon_1, FlashBolo\n",
    "sydrome is down but money is up !,2899,Ry.y, UWU, Magical_Beans\n",
    "Manual Breathing,3593,Yeahboiiiiii, SAH1b, APEX_BOBO\n",
    "SAO Asesinos,2395,S_A_O_Jakester001, jwam2_SAO, AG3NT.Z3RO\n",
    "Progenitor,720,RYL.Shaman\n",
    "prime,2338,IFuze, Winter\n",
    "BAByHawk,2516,GO_Sapphire2889, GO_JessHawk3, GO_BABs\n",
    "SAO_unchained,2785,okkck, S.A.O.MAX.I.CAN\n",
    "Southwest airlines,2610,Pistol_Maverick, Mr.Xtwinkler, SWA_wildbarnacle\n",
    "PGC,3463,Peterpanflex, SAO..K1NGZ, S.A.O_Gomezx3Turbo\n",
    "hi,1432,SheDontLuvYou\n",
    "Bama Boyz,1911,portermac, TTP.Chase\n",
    "even cooler team,3543,Tonkaah, Falcon12321, breckie\n",
    "Sponsored by AARP,1838,RBL_WadsFam, RBL_Elliott\n",
    "THCX,939,THCX-UNFAIRMAGE"
   ]
  },
  {
   "cell_type": "code",
   "execution_count": 1,
   "metadata": {},
   "outputs": [
    {
     "name": "stdout",
     "output_type": "stream",
     "text": [
      "['/Users/stube/Documents/developer/GoBot/notebooks',\n",
      " '/Users/stube/Documents/developer/GoBot',\n",
      " '/Users/stube/opt/anaconda3/lib/python39.zip',\n",
      " '/Users/stube/opt/anaconda3/lib/python3.9',\n",
      " '/Users/stube/opt/anaconda3/lib/python3.9/lib-dynload',\n",
      " '',\n",
      " '/Users/stube/opt/anaconda3/lib/python3.9/site-packages',\n",
      " '/Users/stube/opt/anaconda3/lib/python3.9/site-packages/aeosa',\n",
      " '/Users/stube/opt/anaconda3/lib/python3.9/site-packages/IPython/extensions',\n",
      " '/Users/stube/.ipython']\n"
     ]
    }
   ],
   "source": [
    "import sys\n",
    "from pprint import pprint\n",
    "pprint(sys.path)\n"
   ]
  },
  {
   "cell_type": "code",
   "execution_count": null,
   "metadata": {},
   "outputs": [],
   "source": []
  }
 ],
 "metadata": {
  "kernelspec": {
   "display_name": "base",
   "language": "python",
   "name": "python3"
  },
  "language_info": {
   "codemirror_mode": {
    "name": "ipython",
    "version": 3
   },
   "file_extension": ".py",
   "mimetype": "text/x-python",
   "name": "python",
   "nbconvert_exporter": "python",
   "pygments_lexer": "ipython3",
   "version": "3.9.13"
  }
 },
 "nbformat": 4,
 "nbformat_minor": 2
}
