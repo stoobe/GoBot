{
 "cells": [
  {
   "cell_type": "code",
   "execution_count": 2,
   "metadata": {},
   "outputs": [],
   "source": [
    "import sys\n",
    "import re\n",
    "from pprint import pprint\n",
    "from sqlmodel import SQLModel, create_engine\n",
    "\n",
    "from go.bot.go_db import GoDB\n",
    "from go.bot.playfab_db import PlayfabDB\n",
    "from go.bot.playfab_api import is_playfab_str\n",
    "\n",
    "# import _config_aws as _config\n",
    "import _config"
   ]
  },
  {
   "cell_type": "code",
   "execution_count": 3,
   "metadata": {},
   "outputs": [
    {
     "name": "stdout",
     "output_type": "stream",
     "text": [
      "is_playfab_str(\"14E017AE65DFDD61\") = True\n",
      "is_playfab_str(\"2189293418489239\") = True\n",
      "is_playfab_str(\"14e017AE65DFDD61\") = False\n",
      "is_playfab_str(\"14E017AE65DFDD611\") = False\n",
      "is_playfab_str(\"14E017AE65DFDD6\") = False\n",
      "is_playfab_str(\"abc\") = False\n",
      "is_playfab_str(\"\") = False\n",
      "is_playfab_str(None) = False\n"
     ]
    }
   ],
   "source": [
    "\n",
    "\n",
    "print(f'{is_playfab_str(\"14E017AE65DFDD61\") = }')\n",
    "print(f'{is_playfab_str(\"2189293418489239\") = }')\n",
    "print(f'{is_playfab_str(\"14e017AE65DFDD61\") = }')\n",
    "print(f'{is_playfab_str(\"14E017AE65DFDD611\") = }')\n",
    "print(f'{is_playfab_str(\"14E017AE65DFDD6\") = }')\n",
    "print(f'{is_playfab_str(\"abc\") = }')\n",
    "print(f'{is_playfab_str(\"\") = }')\n",
    "print(f'{is_playfab_str(None) = }')"
   ]
  },
  {
   "cell_type": "code",
   "execution_count": 8,
   "metadata": {},
   "outputs": [
    {
     "name": "stdout",
     "output_type": "stream",
     "text": [
      "host,rating,team,p1,p2,p3\n",
      "GO_colinthe5,4810,VIPx,VIPxRyan2dayy, VIPxNoah, TTV.CreamyVR \n",
      "IrieVR,3330,$hittas,PUTIN, Magical_Beans, DUNKEM_1 \n",
      "IrieVR,3201,hottie Hatties,GO_colinthe5, VIPxGloxi, GOxSami \n",
      "GO_colinthe5,3169,beans,SAO..K1NGZ, okkck, some_MEXICAN_kid \n",
      "GO_colinthe5,3166,poooterpanda won his soccer game,POOTERPANDA, Ramp4g3, breckie hill \n",
      "IrieVR,3131,g,RoccoDiBacco, itsnaaattybetts, SleepyJoeBiden \n",
      "IrieVR,2802,PopPsychos,IrieVR, Psycho.Bunny, WillMM \n",
      "GO_colinthe5,2548,TW Rene,TW_ghostyy, TTV.Cryptic, Q.S.O_Solace45 \n",
      "GO_colinthe5,2468,The Ace of Hearts,Littlered85, Frost_Bite17, WolfPlayz27 \n",
      "IrieVR,2088,preppy bois,Scarer_VR, MOVEWAY, plistic \n",
      "IrieVR,1867,w team,urdeadbyendgame, AJ.ll, XXX_ACE_XXX \n"
     ]
    }
   ],
   "source": [
    "list_teams = '''\n",
    "A: g (3,131) -- RoccoDiBacco, itsnaaattybetts, SleepyJoeBiden\n",
    "B: PopPsychos (2,802) -- IrieVR, Psycho.Bunny, WillMM\n",
    "C: $hittas (3,330) -- PUTIN, Magical_Beans, DUNKEM_1\n",
    "D: poooterpanda won his soccer game (3,166) -- POOTERPANDA, Ramp4g3, breckie hill\n",
    "E: The Ace of Hearts (2,468) -- Littlered85, Frost_Bite17, WolfPlayz27\n",
    "F: w team (1,867) -- urdeadbyendgame, AJ.ll, XXX_ACE_XXX\n",
    "G: TW Rene (2,548) -- TW_ghostyy, TTV.Cryptic, Q.S.O_Solace45\n",
    "H: VIPx (4,810) -- VIPxRyan2dayy, VIPxNoah, TTV.CreamyVR\n",
    "I: hottie Hatties (3,201) -- GO_colinthe5, VIPxGloxi, GOxSami\n",
    "J: preppy bois (2,088) -- Scarer_VR, MOVEWAY, plistic\n",
    "K: beans (3,169) -- SAO..K1NGZ, okkck, some_MEXICAN_kid\n",
    "'''\n",
    "\n",
    "\n",
    "teams = []\n",
    "for line in list_teams.split('\\n'):\n",
    "    line = line.strip()\n",
    "    if not line: continue\n",
    "    \n",
    "    match = re.search(r'\\w+: (.+) \\((\\d+,\\d+)\\) -- (.*)', line)\n",
    "    if match:\n",
    "        name = match.group(1)\n",
    "        rating = int(match.group(2).replace(',',''))\n",
    "        players = match.group(3)\n",
    "        teams.append((rating, name, players))\n",
    "\n",
    "hosts = 'GO_colinthe5 IrieVR'.split()\n",
    "updir = True\n",
    "index = 0\n",
    "\n",
    "\n",
    "print(\"host,rating,team,p1,p2,p3\")\n",
    "teams.sort(key=lambda x: x[0], reverse=True)\n",
    "for team in teams:\n",
    "    \n",
    "    tokens = [hosts[index]] + [str(_) for _ in team]\n",
    "    print(','.join(tokens),'\\r')\n",
    "    \n",
    "    if updir:\n",
    "        index += 1\n",
    "        if index >= len(hosts):\n",
    "            updir = False\n",
    "            index = len(hosts) - 1\n",
    "    else:\n",
    "        index -= 1\n",
    "        if index < 0:\n",
    "            updir = True\n",
    "            index += 1\n",
    "    # print(f'{team[0]} ({team[1]}) -- {team[2]}')"
   ]
  },
  {
   "cell_type": "code",
   "execution_count": 3,
   "metadata": {},
   "outputs": [
    {
     "name": "stdout",
     "output_type": "stream",
     "text": [
      "repr\n"
     ]
    },
    {
     "data": {
      "text/plain": [
       "repr"
      ]
     },
     "execution_count": 3,
     "metadata": {},
     "output_type": "execute_result"
    }
   ],
   "source": []
  },
  {
   "cell_type": "code",
   "execution_count": null,
   "metadata": {},
   "outputs": [],
   "source": []
  }
 ],
 "metadata": {
  "kernelspec": {
   "display_name": "base",
   "language": "python",
   "name": "python3"
  },
  "language_info": {
   "codemirror_mode": {
    "name": "ipython",
    "version": 3
   },
   "file_extension": ".py",
   "mimetype": "text/x-python",
   "name": "python",
   "nbconvert_exporter": "python",
   "pygments_lexer": "ipython3",
   "version": "3.9.18"
  }
 },
 "nbformat": 4,
 "nbformat_minor": 2
}
