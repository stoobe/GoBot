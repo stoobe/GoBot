{
 "cells": [
  {
   "cell_type": "code",
   "execution_count": 1,
   "metadata": {},
   "outputs": [],
   "source": [
    "import sys\n",
    "import re\n",
    "from pprint import pprint\n",
    "from sqlmodel import SQLModel, create_engine\n",
    "\n",
    "from go.bot.go_db import GoDB\n",
    "from go.bot.playfab_db import PlayfabDB\n",
    "from go.bot.playfab_api import is_playfab_str\n",
    "\n",
    "# import _config_aws as _config\n",
    "import _config\n",
    "\n",
    "\n",
    "# engine = create_engine(_config.godb_url, echo=_config.godb_echo, pool_pre_ping=True)\n",
    "\n",
    "# SQLModel.metadata.create_all(engine)\n",
    "# godb = GoDB(engine=engine)\n",
    "# pfdb = PlayfabDB(engine=engine)\n",
    "\n",
    "\n"
   ]
  },
  {
   "cell_type": "code",
   "execution_count": 2,
   "metadata": {},
   "outputs": [
    {
     "name": "stdout",
     "output_type": "stream",
     "text": [
      "is_playfab_str(\"14E017AE65DFDD61\") = True\n",
      "is_playfab_str(\"2189293418489239\") = True\n",
      "is_playfab_str(\"14e017AE65DFDD61\") = False\n",
      "is_playfab_str(\"14E017AE65DFDD611\") = False\n",
      "is_playfab_str(\"14E017AE65DFDD6\") = False\n",
      "is_playfab_str(\"abc\") = False\n",
      "is_playfab_str(\"\") = False\n",
      "is_playfab_str(None) = False\n"
     ]
    }
   ],
   "source": [
    "\n",
    "\n",
    "print(f'{is_playfab_str(\"14E017AE65DFDD61\") = }')\n",
    "print(f'{is_playfab_str(\"2189293418489239\") = }')\n",
    "print(f'{is_playfab_str(\"14e017AE65DFDD61\") = }')\n",
    "print(f'{is_playfab_str(\"14E017AE65DFDD611\") = }')\n",
    "print(f'{is_playfab_str(\"14E017AE65DFDD6\") = }')\n",
    "print(f'{is_playfab_str(\"abc\") = }')\n",
    "print(f'{is_playfab_str(\"\") = }')\n",
    "print(f'{is_playfab_str(None) = }')"
   ]
  },
  {
   "cell_type": "code",
   "execution_count": 26,
   "metadata": {},
   "outputs": [
    {
     "name": "stdout",
     "output_type": "stream",
     "text": [
      "4047,SAO UNCHAINED,SAO..K1NGZ, okkck, S.A.O._MAX.I.CAN \n",
      "3931,VIPx,VIPxRyan2dayy, VIPxNoah, Creamy's friend \n",
      "3892,GOAWPS,GOxPinkpwnage, GOSTOOOBE, GO_Maverick \n",
      "3593,EXCELSIOR,Greta Thunberg, JackGPT, SAH1b \n",
      "3553,Snipe Dis Bi@tch,Peterpanflex, GO~SHoVVTiMeX, SAO_ALWAYSDOWN \n",
      "3384,supreme1,itsnaaattybetts, SleepyJoeBiden, BBQ__WATER \n",
      "3330,$hittas,PUTIN, Magical_Beans, DUNKEM_1 \n",
      "3220,notxarb,Unethiqll, HMONG_SIN, JerryTrucksALot_SIN \n",
      "3201,hottie Hatties,colinthe5, VIPxGloxi, GOxSami \n",
      "2445,impact,xReturn, crank.d, AOC_CAIDEN \n",
      "2087,TW,TTV.Cryptic, TW_sticky_butter, Q.S.O_Solace45 \n",
      "1258,JellyBeans,KyGelli, Consesa, Cosmooon \n"
     ]
    }
   ],
   "source": [
    "list_teams = '''\n",
    "A: EXCELSIOR (3,593) -- Greta Thunberg, JackGPT, SAH1b\n",
    "B: JellyBeans (1,258) -- KyGelli, Consesa, Cosmooon\n",
    "C: GOAWPS (3,892) -- GOxPinkpwnage, GOSTOOOBE, GO_Maverick\n",
    "D: notxarb (3,220) -- Unethiqll, HMONG_SIN, JerryTrucksALot_SIN\n",
    "E: SAO UNCHAINED (4,047) -- SAO..K1NGZ, okkck, S.A.O._MAX.I.CAN\n",
    "F: hottie Hatties (3,201) -- colinthe5, VIPxGloxi, GOxSami\n",
    "G: VIPx (3,931) -- VIPxRyan2dayy, VIPxNoah, Creamy's friend\n",
    "H: supreme1 (3,384) -- itsnaaattybetts, SleepyJoeBiden, BBQ__WATER\n",
    "I: $hittas (3,330) -- PUTIN, Magical_Beans, DUNKEM_1\n",
    "J: Snipe Dis Bi@tch (3,553) -- Peterpanflex, GO~SHoVVTiMeX, SAO_ALWAYSDOWN\n",
    "K: impact (2,445) -- xReturn, crank.d, AOC_CAIDEN\n",
    "L: TW (2,087) -- TTV.Cryptic, TW_sticky_butter, Q.S.O_Solace45\n",
    "'''\n",
    "\n",
    "\n",
    "teams = []\n",
    "for line in list_teams.split('\\n'):\n",
    "    line = line.strip()\n",
    "    if not line: continue\n",
    "    \n",
    "    match = re.search(r'\\w+: (.+) \\((\\d+,\\d+)\\) -- (.*)', line)\n",
    "    if match:\n",
    "        name = match.group(1)\n",
    "        rating = int(match.group(2).replace(',',''))\n",
    "        players = match.group(3)\n",
    "        teams.append((rating, name, players))\n",
    "\n",
    "teams.sort(key=lambda x: x[0], reverse=True)\n",
    "for team in teams:\n",
    "    print(','.join([str(_) for _ in team]),'\\r')\n",
    "    # print(f'{team[0]} ({team[1]}) -- {team[2]}')"
   ]
  }
 ],
 "metadata": {
  "kernelspec": {
   "display_name": "base",
   "language": "python",
   "name": "python3"
  },
  "language_info": {
   "codemirror_mode": {
    "name": "ipython",
    "version": 3
   },
   "file_extension": ".py",
   "mimetype": "text/x-python",
   "name": "python",
   "nbconvert_exporter": "python",
   "pygments_lexer": "ipython3",
   "version": "3.9.18"
  }
 },
 "nbformat": 4,
 "nbformat_minor": 2
}
