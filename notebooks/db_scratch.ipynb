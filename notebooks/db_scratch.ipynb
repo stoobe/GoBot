{
 "cells": [
  {
   "cell_type": "code",
   "execution_count": 9,
   "metadata": {},
   "outputs": [],
   "source": [
    "import sys\n",
    "from pprint import pprint\n",
    "from sqlmodel import SQLModel, create_engine\n",
    "\n",
    "# import _config_aws as _config\n",
    "import _config\n",
    "\n",
    "from go.go_db import GoDB\n",
    "from go.playfab_db import PlayfabDB\n",
    "\n",
    "workspace = \"/Users/stube/Documents/developer/GoBot/\"\n",
    "if workspace not in sys.path:\n",
    "    sys.path.append(workspace)\n",
    "# pprint(sys.path)\n",
    "\n",
    "\n",
    "engine = create_engine(_config.godb_url, echo=_config.godb_echo, pool_pre_ping=True)\n",
    "\n",
    "SQLModel.metadata.create_all(engine)\n",
    "godb = GoDB(engine=engine)\n",
    "pfdb = PlayfabDB(engine=engine)\n",
    "\n",
    "\n"
   ]
  }
 ],
 "metadata": {
  "kernelspec": {
   "display_name": "base",
   "language": "python",
   "name": "python3"
  },
  "language_info": {
   "codemirror_mode": {
    "name": "ipython",
    "version": 3
   },
   "file_extension": ".py",
   "mimetype": "text/x-python",
   "name": "python",
   "nbconvert_exporter": "python",
   "pygments_lexer": "ipython3",
   "version": "3.9.13"
  }
 },
 "nbformat": 4,
 "nbformat_minor": 2
}
