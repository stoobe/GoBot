{
 "cells": [
  {
   "cell_type": "code",
   "execution_count": 4,
   "metadata": {},
   "outputs": [],
   "source": [
    "import sys\n",
    "from pprint import pprint\n",
    "from sqlmodel import SQLModel, create_engine\n",
    "\n",
    "from go.bot.go_db import GoDB\n",
    "from go.bot.playfab_db import PlayfabDB\n",
    "from go.bot.playfab_api import is_playfab_str\n",
    "\n",
    "# import _config_aws as _config\n",
    "import _config\n",
    "\n",
    "\n",
    "engine = create_engine(_config.godb_url, echo=_config.godb_echo, pool_pre_ping=True)\n",
    "\n",
    "SQLModel.metadata.create_all(engine)\n",
    "godb = GoDB(engine=engine)\n",
    "pfdb = PlayfabDB(engine=engine)\n",
    "\n",
    "\n"
   ]
  },
  {
   "cell_type": "code",
   "execution_count": 5,
   "metadata": {},
   "outputs": [
    {
     "name": "stdout",
     "output_type": "stream",
     "text": [
      "is_playfab_str(\"14E017AE65DFDD61\") = True\n",
      "is_playfab_str(\"2189293418489239\") = True\n",
      "is_playfab_str(\"14e017AE65DFDD61\") = False\n",
      "is_playfab_str(\"14E017AE65DFDD611\") = False\n",
      "is_playfab_str(\"14E017AE65DFDD6\") = False\n",
      "is_playfab_str(\"abc\") = False\n",
      "is_playfab_str(\"\") = False\n",
      "is_playfab_str(None) = False\n"
     ]
    }
   ],
   "source": [
    "\n",
    "\n",
    "print(f'{is_playfab_str(\"14E017AE65DFDD61\") = }')\n",
    "print(f'{is_playfab_str(\"2189293418489239\") = }')\n",
    "print(f'{is_playfab_str(\"14e017AE65DFDD61\") = }')\n",
    "print(f'{is_playfab_str(\"14E017AE65DFDD611\") = }')\n",
    "print(f'{is_playfab_str(\"14E017AE65DFDD6\") = }')\n",
    "print(f'{is_playfab_str(\"abc\") = }')\n",
    "print(f'{is_playfab_str(\"\") = }')\n",
    "print(f'{is_playfab_str(None) = }')"
   ]
  },
  {
   "cell_type": "code",
   "execution_count": 6,
   "metadata": {},
   "outputs": [
    {
     "name": "stdout",
     "output_type": "stream",
     "text": [
      "GO: Jump the Shark,2611,GO_SHARK, GO-Cronides, GO_DocButler\n",
      "females,3008,neeeks, VIPxTakeVan, VIPxAniya\n",
      "flob,3195,VIPxgiantbob321, VIPxTheFlipSide, VIPxPoppin\n",
      "Easy Pickings,956,AdoboMexicano\n",
      "GO_MO,1323,GO_Lester\n",
      "GO_Charmander,904,GO_BeauTEEful\n",
      "supreme,2236,U_Died, BBQ__WATER\n",
      "ap,2190,SAH1b, APEX_BOBO\n",
      "Goaties,2530,GO_Sapphire2889, GO_Robot, GO_JessHawk3\n",
      "Were Gooder,3433,VIPxPinkPWNAGE, GO_Maverick, xWhisper\n",
      "Violation,1741,Barkley, RBL_Goon_1\n",
      "Hiccup,1577,UnsaidRhombus.NB\n",
      "dream duo,2658,Rasta, okkck\n",
      "SAO Asesinos V,2656,YoPapi, jwam2_SAO, S.A.O. DRACO\n"
     ]
    },
    {
     "data": {
      "text/plain": [
       "'\\nGO: Jump the Shark,2611,GO_SHARK, GO-Cronides, GO_DocButler\\nfemales,3008,neeeks, VIPxTakeVan, VIPxAniya\\nflob,3195,VIPxgiantbob321, VIPxTheFlipSide, VIPxPoppin\\nEasy Pickings,956,AdoboMexicano\\nGO_MO,1323,GO_Lester\\nGO_Charmander,904,GO_BeauTEEful\\nsupreme,2236,U_Died, BBQ__WATER\\nap,2190,SAH1b, APEX_BOBO\\nGoaties,2530,GO_Sapphire2889, GO_Robot, GO_JessHawk3\\nWere Gooder,3433,VIPxPinkPWNAGE, GO_Maverick, xWhisper\\nViolation,1741,Barkley, RBL_Goon_1\\nHiccup,1577,UnsaidRhombus.NB\\ndream duo,2658,Rasta, okkck\\nSAO Asesinos V,2656,YoPapi, jwam2_SAO, S.A.O. DRACO\\n'"
      ]
     },
     "execution_count": 6,
     "metadata": {},
     "output_type": "execute_result"
    }
   ],
   "source": [
    "list_teams = '''\n",
    "GO: Jump the Shark (2,611) -- GO_SHARK, GO-Cronides, GO_DocButler\n",
    "females (3,008) -- neeeks, VIPxTakeVan, VIPxAniya\n",
    "flob (3,195) -- VIPxgiantbob321, VIPxTheFlipSide, VIPxPoppin\n",
    "Easy Pickings (956) -- AdoboMexicano\n",
    "GO_MO (1,323) -- GO_Lester\n",
    "GO_Charmander (904) -- GO_BeauTEEful\n",
    "supreme (2,236) -- U_Died, BBQ__WATER\n",
    "ap (2,190) -- SAH1b, APEX_BOBO\n",
    "Goaties (2,530) -- GO_Sapphire2889, GO_Robot, GO_JessHawk3\n",
    "Were Gooder (3,433) -- VIPxPinkPWNAGE, GO_Maverick, xWhisper\n",
    "Violation (1,741) -- Barkley, RBL_Goon_1\n",
    "Hiccup (1,577) -- UnsaidRhombus.NB\n",
    "dream duo (2,658) -- Rasta, okkck\n",
    "SAO Asesinos V (2,656) -- YoPapi, jwam2_SAO, S.A.O. DRACO\n",
    "'''\n",
    "\n",
    "for line in list_teams.split('\\n'):\n",
    "    line = line.strip()\n",
    "    if not line: continue\n",
    "    first,second = line.split(' -- ')\n",
    "    name,rating = first.split('(')\n",
    "    name = name.strip().replace(',','')\n",
    "    rating = int(rating.strip().strip('()').replace(',',''))\n",
    "    print(f'{name},{rating},{second}')\n",
    "\"\"\"\n",
    "GO: Jump the Shark,2611,GO_SHARK, GO-Cronides, GO_DocButler\n",
    "females,3008,neeeks, VIPxTakeVan, VIPxAniya\n",
    "flob,3195,VIPxgiantbob321, VIPxTheFlipSide, VIPxPoppin\n",
    "Easy Pickings,956,AdoboMexicano\n",
    "GO_MO,1323,GO_Lester\n",
    "GO_Charmander,904,GO_BeauTEEful\n",
    "supreme,2236,U_Died, BBQ__WATER\n",
    "ap,2190,SAH1b, APEX_BOBO\n",
    "Goaties,2530,GO_Sapphire2889, GO_Robot, GO_JessHawk3\n",
    "Were Gooder,3433,VIPxPinkPWNAGE, GO_Maverick, xWhisper\n",
    "Violation,1741,Barkley, RBL_Goon_1\n",
    "Hiccup,1577,UnsaidRhombus.NB\n",
    "dream duo,2658,Rasta, okkck\n",
    "SAO Asesinos V,2656,YoPapi, jwam2_SAO, S.A.O. DRACO\n",
    "\"\"\""
   ]
  },
  {
   "cell_type": "markdown",
   "metadata": {},
   "source": [
    "RBL,2931,Barkley, RBL_Goon_1, FlashBolo\n",
    "sydrome is down but money is up !,2899,Ry.y, UWU, Magical_Beans\n",
    "Manual Breathing,3593,Yeahboiiiiii, SAH1b, APEX_BOBO\n",
    "SAO Asesinos,2395,S_A_O_Jakester001, jwam2_SAO, AG3NT.Z3RO\n",
    "Progenitor,720,RYL.Shaman\n",
    "prime,2338,IFuze, Winter\n",
    "BAByHawk,2516,GO_Sapphire2889, GO_JessHawk3, GO_BABs\n",
    "SAO_unchained,2785,okkck, S.A.O.MAX.I.CAN\n",
    "Southwest airlines,2610,Pistol_Maverick, Mr.Xtwinkler, SWA_wildbarnacle\n",
    "PGC,3463,Peterpanflex, SAO..K1NGZ, S.A.O_Gomezx3Turbo\n",
    "hi,1432,SheDontLuvYou\n",
    "Bama Boyz,1911,portermac, TTP.Chase\n",
    "even cooler team,3543,Tonkaah, Falcon12321, breckie\n",
    "Sponsored by AARP,1838,RBL_WadsFam, RBL_Elliott\n",
    "THCX,939,THCX-UNFAIRMAGE"
   ]
  },
  {
   "cell_type": "code",
   "execution_count": 1,
   "metadata": {},
   "outputs": [
    {
     "name": "stdout",
     "output_type": "stream",
     "text": [
      "['/Users/stube/Documents/developer/GoBot/notebooks',\n",
      " '/Users/stube/Documents/developer/GoBot',\n",
      " '/Users/stube/opt/anaconda3/lib/python39.zip',\n",
      " '/Users/stube/opt/anaconda3/lib/python3.9',\n",
      " '/Users/stube/opt/anaconda3/lib/python3.9/lib-dynload',\n",
      " '',\n",
      " '/Users/stube/opt/anaconda3/lib/python3.9/site-packages',\n",
      " '/Users/stube/opt/anaconda3/lib/python3.9/site-packages/aeosa',\n",
      " '/Users/stube/opt/anaconda3/lib/python3.9/site-packages/IPython/extensions',\n",
      " '/Users/stube/.ipython']\n"
     ]
    }
   ],
   "source": [
    "import sys\n",
    "from pprint import pprint\n",
    "pprint(sys.path)\n"
   ]
  },
  {
   "cell_type": "code",
   "execution_count": null,
   "metadata": {},
   "outputs": [],
   "source": []
  }
 ],
 "metadata": {
  "kernelspec": {
   "display_name": "base",
   "language": "python",
   "name": "python3"
  },
  "language_info": {
   "codemirror_mode": {
    "name": "ipython",
    "version": 3
   },
   "file_extension": ".py",
   "mimetype": "text/x-python",
   "name": "python",
   "nbconvert_exporter": "python",
   "pygments_lexer": "ipython3",
   "version": "3.9.13"
  }
 },
 "nbformat": 4,
 "nbformat_minor": 2
}
