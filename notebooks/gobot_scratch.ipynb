{
 "cells": [
  {
   "cell_type": "code",
   "execution_count": 1,
   "metadata": {},
   "outputs": [],
   "source": [
    "# import _config_aws as _config\n",
    "import _config"
   ]
  },
  {
   "cell_type": "code",
   "execution_count": 2,
   "metadata": {},
   "outputs": [],
   "source": [
    "import sys\n",
    "import re\n",
    "from pprint import pprint\n",
    "from sqlmodel import SQLModel, create_engine\n",
    "\n",
    "from go.bot.go_db import GoDB\n",
    "from go.bot.playfab_db import PlayfabDB\n",
    "from go.bot.playfab_api import is_playfab_str"
   ]
  },
  {
   "cell_type": "markdown",
   "metadata": {},
   "source": [
    "# Help Sorting Lobbies:"
   ]
  },
  {
   "cell_type": "code",
   "execution_count": 4,
   "metadata": {},
   "outputs": [
    {
     "name": "stdout",
     "output_type": "stream",
     "text": [
      "host,rating,team,p1,p2,p3\n",
      "SHoVVTiMeX,3485,BTK2.0,colintheGO, GOxPinkpwnage, GO_Sapphire2889 \n",
      "GO_Robot,3441,PopPsychos,IrieVR, Psycho.Bunny, WillMM \n",
      "colintheGO,3373,KcFlashBark,Kc_The_Master, Barkley, FlashBolo \n",
      "colintheGO,3344,MISSION,MISSION VR, Sp1n13, Dafflorian \n",
      "GO_Robot,3328,faze,Scarer_VR, MOVEWAY, TOXIC_MPBOSS \n",
      "SHoVVTiMeX,3118,Itsumi Unsaid Cherry 2,cherryyuiyui_L.L.L, UnsaidRhombus.NB, RBL_Itsa.me.Mario \n",
      "SHoVVTiMeX,3013,Win,Euphoria18, SEER3, ONE_KAKAK_KR \n",
      "GO_Robot,2999,VIPs,VIPxSparklingrabbit_2_0, parkered, vipxace \n",
      "colintheGO,2893,NoLongerInCEA,_Tatted_, Kluttzy.NB, NoLongerInPhilly \n",
      "colintheGO,2756,SAO_unchained,SAO._.K1NGZ, okkck \n",
      "GO_Robot,2712,VRShooterz,VRS_Philophosaurus, Satangoss, VRSxT3MINITE \n",
      "SHoVVTiMeX,2646,WWWild Watermelon,tinywatermelon, Consesa, AJ.ll \n",
      "SHoVVTiMeX,2637,cosbabllo,Cosmonautica, Ballo, GO_BABs \n",
      "GO_Robot,2630,fungi's,Pistol_Maverick, Pistol_Gladiator, Mr.Xtwinkler \n",
      "colintheGO,2616,showbunii,GO_STOOOBE, GO~SHoVVTiMeX, GO_MuniiBunii \n",
      "colintheGO,2587,GOgurt,GO_Robot, GO_JessHawk3, alock4-go \n",
      "GO_Robot,2569,VRSomeone,Legends_1, Boyys_1 \n",
      "SHoVVTiMeX,1887,THCX,THCX-UNFAIRMAGE, THC_Artillery.Boom, THC_MONIQUEG005 \n",
      "SHoVVTiMeX,1590,ka-chow,PunkyJen, Smoke399 \n"
     ]
    }
   ],
   "source": [
    "list_teams = '''\n",
    "A: showbunii (2,616) -- GO_STOOOBE, GO~SHoVVTiMeX, GO_MuniiBunii\n",
    "B: VRShooterz (2,712) -- VRS_Philophosaurus, Satangoss, VRSxT3MINITE\n",
    "C: THCX (1,887) -- THCX-UNFAIRMAGE, THC_Artillery.Boom, THC_MONIQUEG005\n",
    "D: Win (3,013) -- Euphoria18, SEER3, ONE_KAKAK_KR\n",
    "E: WWWild Watermelon (2,646) -- tinywatermelon, Consesa, AJ.ll\n",
    "F: VIPs (2,999) -- VIPxSparklingrabbit_2_0, parkered, vipxace\n",
    "G: GOgurt (2,587) -- GO_Robot, GO_JessHawk3, alock4-go\n",
    "H: gazer (964) -- hiiragiT\n",
    "I: Itsumi Unsaid Cherry 2 (3,118) -- cherryyuiyui_L.L.L, UnsaidRhombus.NB, RBL_Itsa.me.Mario\n",
    "J: BTK2.0 (3,485) -- colintheGO, GOxPinkpwnage, GO_Sapphire2889\n",
    "K: SAO_unchained (2,756) -- SAO._.K1NGZ, okkck\n",
    "L: VRSomeone (2,569) -- Legends_1, Boyys_1\n",
    "M: PopPsychos (3,441) -- IrieVR, Psycho.Bunny, WillMM\n",
    "N: ka-chow (1,590) -- PunkyJen, Smoke399\n",
    "O: MISSION (3,344) -- MISSION VR, Sp1n13, Dafflorian\n",
    "P: NoLongerInCEA (2,893) -- _Tatted_, Kluttzy.NB, NoLongerInPhilly\n",
    "Q: cosbabllo (2,637) -- Cosmonautica, Ballo, GO_BABs\n",
    "R: KcFlashBark (3,373) -- Kc_The_Master, Barkley, FlashBolo\n",
    "S: faze (3,328) -- Scarer_VR, MOVEWAY, TOXIC_MPBOSS\n",
    "T: popstars (658) -- MVPxBloodHound\n",
    "U: fungi's (2,630) -- Pistol_Maverick, Pistol_Gladiator, Mr.Xtwinkler\n",
    "'''\n",
    "\n",
    "\n",
    "teams = []\n",
    "for line in list_teams.split('\\n'):\n",
    "    line = line.strip()\n",
    "    if not line: continue\n",
    "    \n",
    "    match = re.search(r'\\w+: (.+) \\((\\d+,\\d+)\\) -- (.*)', line)\n",
    "    if match:\n",
    "        name = match.group(1)\n",
    "        rating = int(match.group(2).replace(',',''))\n",
    "        players = match.group(3)\n",
    "        teams.append((rating, name, players))\n",
    "\n",
    "hosts = 'SHoVVTiMeX GO_Robot colintheGO'.split()\n",
    "updir = True\n",
    "index = 0\n",
    "\n",
    "\n",
    "print(\"host,rating,team,p1,p2,p3\")\n",
    "teams.sort(key=lambda x: x[0], reverse=True)\n",
    "for team in teams:\n",
    "    \n",
    "    tokens = [hosts[index]] + [str(_) for _ in team]\n",
    "    print(','.join(tokens),'\\r')\n",
    "    \n",
    "    if updir:\n",
    "        index += 1\n",
    "        if index >= len(hosts):\n",
    "            updir = False\n",
    "            index = len(hosts) - 1\n",
    "    else:\n",
    "        index -= 1\n",
    "        if index < 0:\n",
    "            updir = True\n",
    "            index += 1\n",
    "    # print(f'{team[0]} ({team[1]}) -- {team[2]}')"
   ]
  },
  {
   "cell_type": "code",
   "execution_count": null,
   "metadata": {},
   "outputs": [],
   "source": []
  }
 ],
 "metadata": {
  "kernelspec": {
   "display_name": "base",
   "language": "python",
   "name": "python3"
  },
  "language_info": {
   "codemirror_mode": {
    "name": "ipython",
    "version": 3
   },
   "file_extension": ".py",
   "mimetype": "text/x-python",
   "name": "python",
   "nbconvert_exporter": "python",
   "pygments_lexer": "ipython3",
   "version": "3.9.18"
  }
 },
 "nbformat": 4,
 "nbformat_minor": 2
}
