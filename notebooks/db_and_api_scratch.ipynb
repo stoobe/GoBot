{
 "cells": [
  {
   "cell_type": "code",
   "execution_count": 1,
   "metadata": {},
   "outputs": [],
   "source": [
    "import _config_mac_to_aws as _config"
   ]
  },
  {
   "cell_type": "code",
   "execution_count": 2,
   "metadata": {},
   "outputs": [
    {
     "name": "stderr",
     "output_type": "stream",
     "text": [
      "2024-06-13 15:00:47.663  INFO      go.bot.playfab_api -- login_to_playfab: session ticket set\n"
     ]
    }
   ],
   "source": [
    "from go.bot.go_db import GoDB\n",
    "from sqlmodel import Session, SQLModel, create_engine\n",
    "from go.bot.playfab_api import PlayfabApi, as_player_id, as_playfab_id\n",
    "from go.bot.playfab_db import PlayfabDB\n",
    "from pprint import pprint\n",
    "\n",
    "engine = create_engine(_config.godb_url, echo=_config.godb_echo)\n",
    "\n",
    "SQLModel.metadata.create_all(engine)\n",
    "pfdb = PlayfabDB()\n",
    "godb = GoDB()\n",
    "\n",
    "pfapi = PlayfabApi()\n",
    "pfapi.login_to_playfab()\n",
    "\n"
   ]
  },
  {
   "cell_type": "markdown",
   "metadata": {},
   "source": [
    "# Choose a playfabid"
   ]
  },
  {
   "cell_type": "code",
   "execution_count": 6,
   "metadata": {},
   "outputs": [],
   "source": [
    "stooobe_playfabid = '121559C6C39206B5'\n",
    "lester_playfabid = 'B6395EBFD2459486'\n",
    "alexfromc_playfabid = 'F9F21325130975C'\n",
    "revolutionx_playfabid = '4575D3B047A8981E'\n",
    "coffee_backon_playfabid = as_playfab_id(1065470778045992877)\n",
    "bradwolf_playfabid = as_playfab_id(-119964107432152410)\n",
    "provolown_pfid = '62D75D8FC9785191'\n",
    "\n",
    "pfid = provolown_pfid"
   ]
  },
  {
   "cell_type": "code",
   "execution_count": 12,
   "metadata": {},
   "outputs": [
    {
     "name": "stdout",
     "output_type": "stream",
     "text": [
      "Player[Provolown, id -2101107829003234927, created 2021-11-26, last_login 2024-06-13 15:56]\n",
      "stats:\n",
      "date=datetime.datetime(2024, 6, 13, 15, 5, 13, 348381) pf_player_id=-2101107829003234927 games=5005 wins=2273 kills=19892 damage=5200175 mmr=4886 skill=2441\n"
     ]
    }
   ],
   "source": [
    "print(pfapi.get_player_from_account_info(player_id=as_player_id(pfid)))\n",
    "print(\"stats:\")\n",
    "print(pfapi.get_player_career_stats(player_id=as_player_id(pfid)))"
   ]
  },
  {
   "cell_type": "markdown",
   "metadata": {},
   "source": [
    "# Add an official GoRating"
   ]
  },
  {
   "cell_type": "code",
   "execution_count": null,
   "metadata": {},
   "outputs": [],
   "source": [
    "from go.bot.models import GoRatings\n",
    "\n",
    "with Session(engine) as session:\n",
    "\n",
    "    player = pfdb.read_player(pf_player_id=as_player_id(pfid), session=session)\n",
    "    print(f'{player =}')\n",
    "    if player is None:\n",
    "        raise Exception()\n",
    "\n",
    "    career_stats = [_ for _ in player.career_stats]\n",
    "    career_stats.sort(key=lambda x: x.date)\n",
    "    pprint(career_stats)\n",
    "\n",
    "    stats = career_stats[-1]\n",
    "    print(f'{stats =}, rating={stats.calc_rating()}')\n",
    "\n",
    "    go_rating = godb.get_official_rating(player.id, session, season=_config.go_season)\n",
    "    print(f'{go_rating =}')\n",
    "    \n",
    "    if go_rating is None:\n",
    "        official_rating = GoRatings(\n",
    "            pf_player_id=player.id,\n",
    "            season=_config.go_season,\n",
    "            rating_type=\"official\",\n",
    "            go_rating=stats.calc_rating(),\n",
    "            )\n",
    "        session.add(official_rating)\n",
    "        session.commit()\n"
   ]
  },
  {
   "cell_type": "markdown",
   "metadata": {},
   "source": [
    "# Register with Playfab \n",
    "Ran once at beginning of project"
   ]
  },
  {
   "cell_type": "code",
   "execution_count": null,
   "metadata": {},
   "outputs": [],
   "source": [
    "# headers = {\n",
    "#     'Content-Type': 'application/json',\n",
    "#     #'X-SecretKey': api_key, \n",
    "#     # 'X-Authorization': session_ticket\n",
    "# }\n",
    "\n",
    "# payload = {\n",
    "#     \"TitleId\": title_id,\n",
    "#     \"Username\": \"devstooobe\",  # Replace with the desired username\n",
    "#     \"Email\": \"brianstube@gmail.com\",  # Replace with the user's email\n",
    "#     \"Password\": \"vabiewu2398fh\"  # Replace with the user's password\n",
    "# }\n",
    "\n",
    "# response = run_request('RegisterPlayFabUser', payload, headers)"
   ]
  }
 ],
 "metadata": {
  "kernelspec": {
   "display_name": "base",
   "language": "python",
   "name": "python3"
  },
  "language_info": {
   "codemirror_mode": {
    "name": "ipython",
    "version": 3
   },
   "file_extension": ".py",
   "mimetype": "text/x-python",
   "name": "python",
   "nbconvert_exporter": "python",
   "pygments_lexer": "ipython3",
   "version": "3.9.18"
  }
 },
 "nbformat": 4,
 "nbformat_minor": 2
}
