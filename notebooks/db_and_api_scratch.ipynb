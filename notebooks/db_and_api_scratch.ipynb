{
 "cells": [
  {
   "cell_type": "code",
   "execution_count": 1,
   "metadata": {},
   "outputs": [],
   "source": [
    "# import _config_mac_to_aws as _config\n",
    "import _config"
   ]
  },
  {
   "cell_type": "code",
   "execution_count": 2,
   "metadata": {},
   "outputs": [],
   "source": [
    "from go.bot.go_db import GoDB\n",
    "from sqlmodel import Session, SQLModel, create_engine\n",
    "from go.bot.playfab_api import PlayfabApi, as_player_id, as_playfab_id\n",
    "from go.bot.playfab_db import PlayfabDB\n",
    "from go.bot.models import GoTeam\n",
    "from pprint import pprint\n",
    "\n",
    "engine = create_engine(_config.godb_url, echo=_config.godb_echo)\n",
    "\n",
    "SQLModel.metadata.create_all(engine)\n",
    "pfdb = PlayfabDB()\n",
    "godb = GoDB()\n",
    "\n",
    "pfapi = PlayfabApi()\n",
    "# pfapi.login_to_playfab()\n",
    "\n"
   ]
  },
  {
   "cell_type": "markdown",
   "metadata": {},
   "source": [
    "# Run Some Queries"
   ]
  },
  {
   "cell_type": "code",
   "execution_count": null,
   "metadata": {},
   "outputs": [],
   "source": [
    "from sqlmodel import select\n",
    "from go.bot.models import GoRatings,PfPlayer\n",
    "from go.bot.playfab_api import as_playfab_id\n",
    "\n",
    "\n",
    "session = Session(engine)\n",
    "statement = select(GoRatings, PfPlayer).where(GoRatings.rating_type == \"official\").where(GoRatings.season == \"GO Phoenix S1\")\n",
    "statement = statement.where(GoRatings.pf_player_id == PfPlayer.id)\n",
    "statement = statement.order_by(GoRatings.go_rating.desc())\n",
    "ratings = session.exec(statement).all()\n",
    "\n",
    "# print(len(ratings))\n",
    "for r in ratings:\n",
    "    # print(r)\n",
    "    print(f\"{r[1].ign}\\t{as_playfab_id(r[1].id)}\\t{r[0].go_rating}\")"
   ]
  },
  {
   "cell_type": "markdown",
   "metadata": {},
   "source": [
    "# Choose a playfabid"
   ]
  },
  {
   "cell_type": "code",
   "execution_count": 3,
   "metadata": {},
   "outputs": [],
   "source": [
    "stooobe_playfabid = '121559C6C39206B5'\n",
    "lester_playfabid = 'B6395EBFD2459486'\n",
    "alexfromc_playfabid = 'F9F21325130975C'\n",
    "revolutionx_playfabid = '4575D3B047A8981E'\n",
    "coffee_backon_playfabid = as_playfab_id(1065470778045992877)\n",
    "bradwolf_playfabid = as_playfab_id(-119964107432152410)\n",
    "provolown_pfid = '62D75D8FC9785191'\n",
    "munii_playfabid = as_playfab_id(5135846081841770710)\n",
    "\n",
    "pfid = munii_playfabid"
   ]
  },
  {
   "cell_type": "code",
   "execution_count": 4,
   "metadata": {},
   "outputs": [
    {
     "name": "stdout",
     "output_type": "stream",
     "text": [
      "Player[GO_STOOOBE, id -7920325659441625419, created 2021-05-26, last_login 2024-06-26 02:19]\n",
      "stats:\n",
      "date=datetime.datetime(2024, 7, 1, 14, 8, 44, 563021) pf_player_id=-7920325659441625419 games=8333 wins=4021 kills=31712 damage=6621000 mmr=4900 skill=2342\n"
     ]
    }
   ],
   "source": [
    "print(pfapi.get_player_from_account_info(player_id=as_player_id(pfid)))\n",
    "print(\"stats:\")\n",
    "print(pfapi.get_player_career_stats(player_id=as_player_id(pfid)))"
   ]
  },
  {
   "cell_type": "code",
   "execution_count": 8,
   "metadata": {},
   "outputs": [
    {
     "name": "stderr",
     "output_type": "stream",
     "text": [
      "2024-06-14 13:48:34.119  INFO      go.bot.go_db   -- Reading GoPlayer with discord_id = 408731638223208448 from DB\n",
      "2024-06-14 13:48:34.221  INFO      go.bot.go_db   -- Creating GoTeam team_name = 'solo stooobe' in DB\n",
      "2024-06-14 13:48:34.221  INFO      go.bot.go_db   -- Reading GoTeam with discord_ids = {408731638223208448} from DB\n",
      "2024-06-14 13:48:34.307  INFO      go.bot.go_db   -- Returning team with team.id = 70\n"
     ]
    },
    {
     "ename": "GoDbError",
     "evalue": "Team with roster {'GO_STOOOBE'} already exists.",
     "output_type": "error",
     "traceback": [
      "\u001b[0;31m---------------------------------------------------------------------------\u001b[0m",
      "\u001b[0;31mGoDbError\u001b[0m                                 Traceback (most recent call last)",
      "Cell \u001b[0;32mIn[8], line 3\u001b[0m\n\u001b[1;32m      1\u001b[0m session \u001b[38;5;241m=\u001b[39m Session(engine)\n\u001b[1;32m      2\u001b[0m Stoobe \u001b[38;5;241m=\u001b[39m godb\u001b[38;5;241m.\u001b[39mread_player(discord_id\u001b[38;5;241m=\u001b[39m\u001b[38;5;241m408731638223208448\u001b[39m, session\u001b[38;5;241m=\u001b[39msession)\n\u001b[0;32m----> 3\u001b[0m \u001b[43mgodb\u001b[49m\u001b[38;5;241;43m.\u001b[39;49m\u001b[43mcreate_team\u001b[49m\u001b[43m(\u001b[49m\u001b[38;5;124;43m'\u001b[39;49m\u001b[38;5;124;43msolo stooobe\u001b[39;49m\u001b[38;5;124;43m'\u001b[39;49m\u001b[43m,\u001b[49m\u001b[43m \u001b[49m\u001b[43m[\u001b[49m\u001b[43mStoobe\u001b[49m\u001b[43m]\u001b[49m\u001b[43m,\u001b[49m\u001b[43m \u001b[49m\u001b[43msession\u001b[49m\u001b[43m,\u001b[49m\u001b[43m \u001b[49m\u001b[43mrating_limit\u001b[49m\u001b[38;5;241;43m=\u001b[39;49m\u001b[38;5;28;43;01mNone\u001b[39;49;00m\u001b[43m,\u001b[49m\u001b[43m \u001b[49m\u001b[43mseason\u001b[49m\u001b[38;5;241;43m=\u001b[39;49m\u001b[43m_config\u001b[49m\u001b[38;5;241;43m.\u001b[39;49m\u001b[43mgo_season\u001b[49m\u001b[43m)\u001b[49m\n\u001b[1;32m      4\u001b[0m session\u001b[38;5;241m.\u001b[39mcommit()\n",
      "File \u001b[0;32m~/Documents/developer/GoBot/go/bot/go_db.py:90\u001b[0m, in \u001b[0;36mGoDB.create_team\u001b[0;34m(self, team_name, go_players, session, rating_limit, season)\u001b[0m\n\u001b[1;32m     88\u001b[0m existing_team \u001b[38;5;241m=\u001b[39m \u001b[38;5;28mself\u001b[39m\u001b[38;5;241m.\u001b[39mread_team_with_roster(discord_ids\u001b[38;5;241m=\u001b[39mids, session\u001b[38;5;241m=\u001b[39msession)\n\u001b[1;32m     89\u001b[0m \u001b[38;5;28;01mif\u001b[39;00m existing_team \u001b[38;5;129;01mis\u001b[39;00m \u001b[38;5;129;01mnot\u001b[39;00m \u001b[38;5;28;01mNone\u001b[39;00m:\n\u001b[0;32m---> 90\u001b[0m     \u001b[38;5;28;01mraise\u001b[39;00m GoDbError(\u001b[38;5;124mf\u001b[39m\u001b[38;5;124m\"\u001b[39m\u001b[38;5;124mTeam with roster \u001b[39m\u001b[38;5;132;01m{\u001b[39;00m\u001b[38;5;250m \u001b[39m{p\u001b[38;5;241m.\u001b[39mdiscord_name\u001b[38;5;250m \u001b[39m\u001b[38;5;28;01mfor\u001b[39;00m\u001b[38;5;250m \u001b[39mp\u001b[38;5;250m \u001b[39m\u001b[38;5;129;01min\u001b[39;00m\u001b[38;5;250m \u001b[39mgo_players}\u001b[38;5;250m \u001b[39m\u001b[38;5;132;01m}\u001b[39;00m\u001b[38;5;124m already exists.\u001b[39m\u001b[38;5;124m\"\u001b[39m)\n\u001b[1;32m     92\u001b[0m team_rating \u001b[38;5;241m=\u001b[39m \u001b[38;5;241m0.0\u001b[39m\n\u001b[1;32m     93\u001b[0m \u001b[38;5;28;01mfor\u001b[39;00m go_p \u001b[38;5;129;01min\u001b[39;00m go_players:\n",
      "\u001b[0;31mGoDbError\u001b[0m: Team with roster {'GO_STOOOBE'} already exists."
     ]
    }
   ],
   "source": [
    "session = Session(engine)\n",
    "Stoobe = godb.read_player(discord_id=408731638223208448, session=session)\n",
    "godb.create_team('solo stooobe', [Stoobe], session, rating_limit=None, season=_config.go_season)"
   ]
  },
  {
   "cell_type": "markdown",
   "metadata": {},
   "source": [
    "# Add an official GoRating"
   ]
  },
  {
   "cell_type": "code",
   "execution_count": 5,
   "metadata": {},
   "outputs": [
    {
     "name": "stderr",
     "output_type": "stream",
     "text": [
      "2024-07-09 16:28:52.748  INFO      go.bot.playfab_db -- Reading PfPlayer with Playfab ID 5135846081841770710 from DB\n"
     ]
    },
    {
     "name": "stdout",
     "output_type": "stream",
     "text": [
      "player =PfPlayer(ign='GO_MuniiBunii', account_created=datetime.datetime(2022, 7, 18, 18, 59, 13), avatar_url=None, id=5135846081841770710, last_login=datetime.datetime(2024, 6, 25, 0, 51, 38))\n",
      "[PfCareerStats(date=datetime.datetime(2024, 2, 22, 0, 8, 12), wins=4409, kills=20474, mmr=4870, pf_player_id=5135846081841770710, games=14744, damage=5322016, skill=2271),\n",
      " PfCareerStats(date=datetime.datetime(2024, 4, 3, 1, 1, 55), wins=4845, kills=23063, mmr=5000, pf_player_id=5135846081841770710, games=15788, damage=5952597, skill=2741),\n",
      " PfCareerStats(date=datetime.datetime(2024, 5, 2, 16, 27, 7), wins=5159, kills=24880, mmr=4507, pf_player_id=5135846081841770710, games=16580, damage=6417573, skill=2561),\n",
      " PfCareerStats(date=datetime.datetime(2024, 6, 5, 21, 18, 54), wins=5395, kills=26343, mmr=4367, pf_player_id=5135846081841770710, games=17137, damage=6791157, skill=1964),\n",
      " PfCareerStats(date=datetime.datetime(2024, 7, 1, 14, 13, 53), wins=5478, kills=27722, mmr=4774, pf_player_id=5135846081841770710, games=17376, damage=7144116, skill=2060)]\n",
      "stats =PfCareerStats(date=datetime.datetime(2024, 7, 1, 14, 13, 53), wins=5478, kills=27722, mmr=4774, pf_player_id=5135846081841770710, games=17376, damage=7144116, skill=2060), rating=453.05824125230197\n",
      "go_rating =453.058\n"
     ]
    }
   ],
   "source": [
    "from go.bot.models import GoRatings\n",
    "\n",
    "with Session(engine) as session:\n",
    "\n",
    "    player = pfdb.read_player(pf_player_id=as_player_id(pfid), session=session)\n",
    "    print(f'{player =}')\n",
    "    if player is None:\n",
    "        raise Exception()\n",
    "\n",
    "    career_stats = [_ for _ in player.career_stats]\n",
    "    career_stats.sort(key=lambda x: x.date)\n",
    "    pprint(career_stats)\n",
    "\n",
    "    stats = career_stats[-1]\n",
    "    print(f'{stats =}, rating={stats.calc_rating()}')\n",
    "\n",
    "    go_rating = godb.get_official_rating(player.id, session, season=_config.go_season)\n",
    "    print(f'{go_rating =}')\n",
    "    \n",
    "    if go_rating is None:\n",
    "        official_rating = GoRatings(\n",
    "            pf_player_id=player.id,\n",
    "            season=_config.go_season,\n",
    "            rating_type=\"official\",\n",
    "            go_rating=stats.calc_rating(),\n",
    "            )\n",
    "        session.add(official_rating)\n",
    "        session.commit()\n",
    "        \n",
    "        print(f'{official_rating =}')\n"
   ]
  },
  {
   "cell_type": "markdown",
   "metadata": {},
   "source": [
    "# Register with Playfab \n",
    "Ran once at beginning of project"
   ]
  },
  {
   "cell_type": "code",
   "execution_count": null,
   "metadata": {},
   "outputs": [],
   "source": [
    "# headers = {\n",
    "#     'Content-Type': 'application/json',\n",
    "#     #'X-SecretKey': api_key, \n",
    "#     # 'X-Authorization': session_ticket\n",
    "# }\n",
    "\n",
    "# payload = {\n",
    "#     \"TitleId\": title_id,\n",
    "#     \"Username\": \"devstooobe\",  # Replace with the desired username\n",
    "#     \"Email\": \"brianstube@gmail.com\",  # Replace with the user's email\n",
    "#     \"Password\": \"vabiewu2398fh\"  # Replace with the user's password\n",
    "# }\n",
    "\n",
    "# response = run_request('RegisterPlayFabUser', payload, headers)"
   ]
  }
 ],
 "metadata": {
  "kernelspec": {
   "display_name": "base",
   "language": "python",
   "name": "python3"
  },
  "language_info": {
   "codemirror_mode": {
    "name": "ipython",
    "version": 3
   },
   "file_extension": ".py",
   "mimetype": "text/x-python",
   "name": "python",
   "nbconvert_exporter": "python",
   "pygments_lexer": "ipython3",
   "version": "3.9.18"
  }
 },
 "nbformat": 4,
 "nbformat_minor": 2
}
