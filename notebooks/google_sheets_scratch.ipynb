{
 "cells": [
  {
   "cell_type": "code",
   "execution_count": 137,
   "id": "51fcbf20-1ed7-4a1c-bb63-d81742405bf3",
   "metadata": {},
   "outputs": [],
   "source": [
    "from gsheets import Sheets"
   ]
  },
  {
   "cell_type": "code",
   "execution_count": 13,
   "id": "b7048bb7-40b1-4663-8ee5-1195cf363f7f",
   "metadata": {},
   "outputs": [
    {
     "name": "stdout",
     "output_type": "stream",
     "text": [
      "\n",
      "Your browser has been opened to visit:\n",
      "\n",
      "    https://accounts.google.com/o/oauth2/auth?client_id=815260405548-l9lluqtgamfoe0s284cvmtp0g76ovamj.apps.googleusercontent.com&redirect_uri=http%3A%2F%2Flocalhost%3A8080%2F&scope=https%3A%2F%2Fwww.googleapis.com%2Fauth%2Fspreadsheets.readonly+https%3A%2F%2Fwww.googleapis.com%2Fauth%2Fdrive.readonly&access_type=offline&response_type=code\n",
      "\n",
      "If your browser is on a different machine then exit and re-run this\n",
      "application with the command-line parameter\n",
      "\n",
      "  --noauth_local_webserver\n",
      "\n",
      "Authentication successful.\n"
     ]
    }
   ],
   "source": [
    "sheets = Sheets.from_files('~/documents/developer/go_bot/client_secrets.json', '~/documents/developer/go_bot/storage.json')"
   ]
  },
  {
   "cell_type": "code",
   "execution_count": 15,
   "id": "0b916cc5-16a0-41fb-a68a-1099b498abe5",
   "metadata": {},
   "outputs": [],
   "source": [
    "url = 'https://docs.Sheets.com/spreadsheets/d/1XSV89pZD1gj8DOTIu9asL75Dz4n4Rl-h7rciadjvwF8'"
   ]
  },
  {
   "cell_type": "code",
   "execution_count": 18,
   "id": "d54fd4bc-0f40-40ec-9942-b02311a49230",
   "metadata": {},
   "outputs": [],
   "source": [
    "s = sheets.get(url)"
   ]
  },
  {
   "cell_type": "code",
   "execution_count": 22,
   "id": "733dbf0c-05cb-4bcd-9017-d888e2719dcc",
   "metadata": {},
   "outputs": [],
   "source": [
    "frame = s.sheets[0].to_frame()"
   ]
  },
  {
   "cell_type": "code",
   "execution_count": 27,
   "id": "0a8d89b0-324f-4d71-8408-862de126b088",
   "metadata": {},
   "outputs": [
    {
     "data": {
      "text/html": [
       "<div>\n",
       "<style scoped>\n",
       "    .dataframe tbody tr th:only-of-type {\n",
       "        vertical-align: middle;\n",
       "    }\n",
       "\n",
       "    .dataframe tbody tr th {\n",
       "        vertical-align: top;\n",
       "    }\n",
       "\n",
       "    .dataframe thead th {\n",
       "        text-align: right;\n",
       "    }\n",
       "</style>\n",
       "<table border=\"1\" class=\"dataframe\">\n",
       "  <thead>\n",
       "    <tr style=\"text-align: right;\">\n",
       "      <th></th>\n",
       "      <th>Smart IGN</th>\n",
       "      <th>PFID</th>\n",
       "      <th>Multi Account PFID</th>\n",
       "      <th>GO Rating</th>\n",
       "      <th>30+ Rating</th>\n",
       "    </tr>\n",
       "  </thead>\n",
       "  <tbody>\n",
       "    <tr>\n",
       "      <th>0</th>\n",
       "      <td>TTP.Guramichi15</td>\n",
       "      <td>79ED45AD17C8483B</td>\n",
       "      <td>79ED45AD17C8483B</td>\n",
       "      <td>1946.318083</td>\n",
       "      <td>2698.724418</td>\n",
       "    </tr>\n",
       "    <tr>\n",
       "      <th>1</th>\n",
       "      <td>MyVRUser12</td>\n",
       "      <td>764DD262873FF5FD</td>\n",
       "      <td>764DD262873FF5FD</td>\n",
       "      <td>1919.545739</td>\n",
       "      <td>2690.070835</td>\n",
       "    </tr>\n",
       "    <tr>\n",
       "      <th>2</th>\n",
       "      <td>Gabe_Watts.NB</td>\n",
       "      <td>897EC5B9C24E425E</td>\n",
       "      <td>897EC5B9C24E425E</td>\n",
       "      <td>1882.838221</td>\n",
       "      <td>2613.429481</td>\n",
       "    </tr>\n",
       "    <tr>\n",
       "      <th>3</th>\n",
       "      <td>Scanter</td>\n",
       "      <td>9CC35B4B3A8E41D1</td>\n",
       "      <td>9CC35B4B3A8E41D1</td>\n",
       "      <td>1879.689239</td>\n",
       "      <td>2767.670788</td>\n",
       "    </tr>\n",
       "    <tr>\n",
       "      <th>4</th>\n",
       "      <td>Legends_1</td>\n",
       "      <td>8F5542CC5FA8A54F</td>\n",
       "      <td>8F5542CC5FA8A54F</td>\n",
       "      <td>1848.905708</td>\n",
       "      <td>2637.606884</td>\n",
       "    </tr>\n",
       "    <tr>\n",
       "      <th>...</th>\n",
       "      <td>...</td>\n",
       "      <td>...</td>\n",
       "      <td>...</td>\n",
       "      <td>...</td>\n",
       "      <td>...</td>\n",
       "    </tr>\n",
       "    <tr>\n",
       "      <th>2925</th>\n",
       "      <td>Jen_Beth</td>\n",
       "      <td>CA392AAFB8701AF3</td>\n",
       "      <td>CA392AAFB8701AF3</td>\n",
       "      <td>147.572816</td>\n",
       "      <td>36.026764</td>\n",
       "    </tr>\n",
       "    <tr>\n",
       "      <th>2926</th>\n",
       "      <td>2Souls</td>\n",
       "      <td>D38B995C8848C0A9</td>\n",
       "      <td>D38B995C8848C0A9</td>\n",
       "      <td>146.241830</td>\n",
       "      <td>13.899732</td>\n",
       "    </tr>\n",
       "    <tr>\n",
       "      <th>2927</th>\n",
       "      <td>TaterTot2.0_TSK</td>\n",
       "      <td>6E499AB0A4530804</td>\n",
       "      <td>6E499AB0A4530804</td>\n",
       "      <td>142.293395</td>\n",
       "      <td>53.108748</td>\n",
       "    </tr>\n",
       "    <tr>\n",
       "      <th>2928</th>\n",
       "      <td>TRO_dorminjones</td>\n",
       "      <td>BE05DA3CD5BFB3F8</td>\n",
       "      <td>BE05DA3CD5BFB3F8</td>\n",
       "      <td>82.749767</td>\n",
       "      <td>18.723590</td>\n",
       "    </tr>\n",
       "    <tr>\n",
       "      <th>2929</th>\n",
       "      <td>OnTheFrontLine</td>\n",
       "      <td>2.62E+73</td>\n",
       "      <td>2.62E+73</td>\n",
       "      <td>NaN</td>\n",
       "      <td>NaN</td>\n",
       "    </tr>\n",
       "  </tbody>\n",
       "</table>\n",
       "<p>2930 rows × 5 columns</p>\n",
       "</div>"
      ],
      "text/plain": [
       "            Smart IGN              PFID Multi Account PFID    GO Rating  \\\n",
       "0     TTP.Guramichi15  79ED45AD17C8483B   79ED45AD17C8483B  1946.318083   \n",
       "1          MyVRUser12  764DD262873FF5FD   764DD262873FF5FD  1919.545739   \n",
       "2       Gabe_Watts.NB  897EC5B9C24E425E   897EC5B9C24E425E  1882.838221   \n",
       "3             Scanter  9CC35B4B3A8E41D1   9CC35B4B3A8E41D1  1879.689239   \n",
       "4           Legends_1  8F5542CC5FA8A54F   8F5542CC5FA8A54F  1848.905708   \n",
       "...               ...               ...                ...          ...   \n",
       "2925         Jen_Beth  CA392AAFB8701AF3   CA392AAFB8701AF3   147.572816   \n",
       "2926           2Souls  D38B995C8848C0A9   D38B995C8848C0A9   146.241830   \n",
       "2927  TaterTot2.0_TSK  6E499AB0A4530804   6E499AB0A4530804   142.293395   \n",
       "2928  TRO_dorminjones  BE05DA3CD5BFB3F8   BE05DA3CD5BFB3F8    82.749767   \n",
       "2929   OnTheFrontLine          2.62E+73           2.62E+73          NaN   \n",
       "\n",
       "       30+ Rating  \n",
       "0     2698.724418  \n",
       "1     2690.070835  \n",
       "2     2613.429481  \n",
       "3     2767.670788  \n",
       "4     2637.606884  \n",
       "...           ...  \n",
       "2925    36.026764  \n",
       "2926    13.899732  \n",
       "2927    53.108748  \n",
       "2928    18.723590  \n",
       "2929          NaN  \n",
       "\n",
       "[2930 rows x 5 columns]"
      ]
     },
     "execution_count": 27,
     "metadata": {},
     "output_type": "execute_result"
    }
   ],
   "source": [
    "frame"
   ]
  },
  {
   "cell_type": "code",
   "execution_count": 163,
   "id": "7acc8315-f44e-4af0-ae6d-db3741fc9a9b",
   "metadata": {},
   "outputs": [
    {
     "name": "stdout",
     "output_type": "stream",
     "text": [
      "/Users/stube/Documents/developer/GoBot\n"
     ]
    }
   ],
   "source": [
    "cd /Users/stube/Documents/developer/GoBot/"
   ]
  },
  {
   "cell_type": "code",
   "execution_count": 164,
   "id": "9a462e34-7559-4cbc-9b6b-a31f4a7c1e2b",
   "metadata": {},
   "outputs": [
    {
     "data": {
      "text/plain": [
       "'/Users/stube/Documents/developer/GoBot'"
      ]
     },
     "execution_count": 164,
     "metadata": {},
     "output_type": "execute_result"
    }
   ],
   "source": [
    "pwd"
   ]
  },
  {
   "cell_type": "code",
   "execution_count": 165,
   "id": "85b11fdc-ff4a-4558-9844-7de2d0016ff2",
   "metadata": {},
   "outputs": [],
   "source": [
    "import sqlite3"
   ]
  },
  {
   "cell_type": "code",
   "execution_count": 211,
   "id": "e367f20f-6e33-4c63-b5e1-4be3e0815a28",
   "metadata": {},
   "outputs": [],
   "source": [
    "con = sqlite3.connect(\"gobot.db\")\n",
    "\n",
    "def attrs_factory(cursor, row):\n",
    "    fields = [column[0] for column in cursor.description]\n",
    "    Row = attrs.make_class(\"Row\", fields)\n",
    "    r = Row(*row)\n",
    "    # print(f\"attrs_factory row {r}\")\n",
    "    return r\n",
    "\n",
    "con.row_factory = attrs_factory\n",
    "\n",
    "cur = con.cursor()"
   ]
  },
  {
   "cell_type": "code",
   "execution_count": 212,
   "id": "f439bb08-7a89-4df1-a5a4-3e3063d302d2",
   "metadata": {},
   "outputs": [
    {
     "name": "stdout",
     "output_type": "stream",
     "text": [
      "True\n"
     ]
    },
    {
     "data": {
      "text/plain": [
       "['teams',\n",
       " 'sqlite_autoindex_teams_1',\n",
       " 'players',\n",
       " 'rosters',\n",
       " 'signups',\n",
       " 'ratings',\n",
       " 'sqlite_autoindex_ratings_1']"
      ]
     },
     "execution_count": 212,
     "metadata": {},
     "output_type": "execute_result"
    }
   ],
   "source": [
    "res = cur.execute(\"SELECT name FROM sqlite_master\")\n",
    "tables = [row.name for row in res.fetchall()]\n",
    "print(\"teams\" in tables)\n",
    "tables"
   ]
  },
  {
   "cell_type": "code",
   "execution_count": 213,
   "id": "0ddd42da-9d53-412a-a8b8-9f40108f88e3",
   "metadata": {},
   "outputs": [
    {
     "ename": "OperationalError",
     "evalue": "table teams already exists",
     "output_type": "error",
     "traceback": [
      "\u001b[0;31m---------------------------------------------------------------------------\u001b[0m",
      "\u001b[0;31mOperationalError\u001b[0m                          Traceback (most recent call last)",
      "\u001b[0;32m/var/folders/k8/nq68wvmn7sl_xpt_6335__nw0000gn/T/ipykernel_23886/178705055.py\u001b[0m in \u001b[0;36m<module>\u001b[0;34m\u001b[0m\n\u001b[0;32m----> 1\u001b[0;31m \u001b[0mcur\u001b[0m\u001b[0;34m.\u001b[0m\u001b[0mexecute\u001b[0m\u001b[0;34m(\u001b[0m\u001b[0;34m\"CREATE TABLE teams(team_id INTEGER PRIMARY KEY, team_name UNIQUE, player_count)\"\u001b[0m\u001b[0;34m)\u001b[0m\u001b[0;34m\u001b[0m\u001b[0;34m\u001b[0m\u001b[0m\n\u001b[0m\u001b[1;32m      2\u001b[0m \u001b[0mcur\u001b[0m\u001b[0;34m.\u001b[0m\u001b[0mexecute\u001b[0m\u001b[0;34m(\u001b[0m\u001b[0;34m\"CREATE TABLE players(discord_id, discord_name, pfid, ign)\"\u001b[0m\u001b[0;34m)\u001b[0m\u001b[0;34m\u001b[0m\u001b[0;34m\u001b[0m\u001b[0m\n\u001b[1;32m      3\u001b[0m \u001b[0mcur\u001b[0m\u001b[0;34m.\u001b[0m\u001b[0mexecute\u001b[0m\u001b[0;34m(\u001b[0m\u001b[0;34m\"CREATE TABLE rosters(team_id, discord_id)\"\u001b[0m\u001b[0;34m)\u001b[0m\u001b[0;34m\u001b[0m\u001b[0;34m\u001b[0m\u001b[0m\n\u001b[1;32m      4\u001b[0m \u001b[0mcur\u001b[0m\u001b[0;34m.\u001b[0m\u001b[0mexecute\u001b[0m\u001b[0;34m(\u001b[0m\u001b[0;34m\"CREATE TABLE signups(date, team_id)\"\u001b[0m\u001b[0;34m)\u001b[0m\u001b[0;34m\u001b[0m\u001b[0;34m\u001b[0m\u001b[0m\n\u001b[1;32m      5\u001b[0m \u001b[0mcur\u001b[0m\u001b[0;34m.\u001b[0m\u001b[0mexecute\u001b[0m\u001b[0;34m(\u001b[0m\u001b[0;34m\"CREATE TABLE ratings(pfid UNIQUE, ign, go_rating)\"\u001b[0m\u001b[0;34m)\u001b[0m\u001b[0;34m\u001b[0m\u001b[0;34m\u001b[0m\u001b[0m\n",
      "\u001b[0;31mOperationalError\u001b[0m: table teams already exists"
     ]
    }
   ],
   "source": [
    "    cur.execute(\"CREATE TABLE teams(team_id INTEGER PRIMARY KEY, team_name UNIQUE, player_count)\")\n",
    "    cur.execute(\"CREATE TABLE players(discord_id, discord_name, pfid, ign)\")\n",
    "    cur.execute(\"CREATE TABLE rosters(team_id, discord_id)\")\n",
    "    cur.execute(\"CREATE TABLE signups(date, team_id)\")\n",
    "    cur.execute(\"CREATE TABLE ratings(pfid UNIQUE, ign, go_rating)\")\n"
   ]
  },
  {
   "cell_type": "code",
   "execution_count": 185,
   "id": "8327e031-ce6e-48d2-9a11-6faf19457321",
   "metadata": {},
   "outputs": [],
   "source": [
    "cur.execute('INSERT INTO players VALUES (895726168140038185, \"go_shovvtimex\", 0, \"GO Showtime\")')\n",
    "cur.execute('INSERT INTO players VALUES (497806556008546304, \"go_maverick\", 0, \"GO Mav\")')\n",
    "cur.execute('INSERT INTO players VALUES (904075134938267707, \"go_smartazz\", 0, \"GO SmartAzz\")')\n",
    "con.commit()"
   ]
  },
  {
   "cell_type": "code",
   "execution_count": 186,
   "id": "57539321-2f67-46fb-8993-d7b26e50b855",
   "metadata": {},
   "outputs": [],
   "source": [
    "con.close()"
   ]
  },
  {
   "cell_type": "code",
   "execution_count": 214,
   "id": "c6bb1149-6e51-4fb6-8768-723c2d5d14da",
   "metadata": {},
   "outputs": [
    {
     "data": {
      "text/plain": [
       "[Row(discord_id=408731638223208448, discord_name='GO_STOOOBE', pfid=0, ign='GO_STOOOBE'),\n",
       " Row(discord_id=408731638223208448, discord_name='GO_STOOOBE', pfid=0, ign='GO_STOOOBE'),\n",
       " Row(discord_id=408731638223208448, discord_name='GO_STOOOBE', pfid=0, ign='GO_STOOOBE'),\n",
       " Row(discord_id=161995862153625600, discord_name='VIPxRyan2dayy', pfid=0, ign='VIPxRyan2dayy'),\n",
       " Row(discord_id=161995862153625600, discord_name='VIPxRyan2dayy', pfid=0, ign='VIPxRyan2dayy'),\n",
       " Row(discord_id=161995862153625600, discord_name='VIPxRyan2dayy', pfid=0, ign='VIPxRyan2dayy'),\n",
       " Row(discord_id=795494347876597770, discord_name='VIPxMuggy', pfid=0, ign='VIPxMuggy'),\n",
       " Row(discord_id=795494347876597770, discord_name='VIPxMuggy', pfid=0, ign='VIPxMuggy'),\n",
       " Row(discord_id=795494347876597770, discord_name='VIPxMuggy', pfid=0, ign='VIPxMuggy'),\n",
       " Row(discord_id=826046643626835988, discord_name='MEME', pfid=0, ign='MEME'),\n",
       " Row(discord_id=826046643626835988, discord_name='MEME', pfid=0, ign='MEME'),\n",
       " Row(discord_id=826046643626835988, discord_name='MEME', pfid=0, ign='MEME'),\n",
       " Row(discord_id=896816960296329307, discord_name='009db', pfid=0, ign='009db'),\n",
       " Row(discord_id=896816960296329307, discord_name='009db', pfid=0, ign='009db'),\n",
       " Row(discord_id=896816960296329307, discord_name='009db', pfid=0, ign='009db'),\n",
       " Row(discord_id=750928331850907720, discord_name='VIPxMac11', pfid=0, ign='VIPxMac11'),\n",
       " Row(discord_id=750928331850907720, discord_name='VIPxMac11', pfid=0, ign='VIPxMac11'),\n",
       " Row(discord_id=750928331850907720, discord_name='VIPxMac11', pfid=0, ign='VIPxMac11'),\n",
       " Row(discord_id=921601470221144074, discord_name='ℬ𝓁𝓊𝓃𝓉', pfid=0, ign='ℬ𝓁𝓊𝓃𝓉'),\n",
       " Row(discord_id=921601470221144074, discord_name='ℬ𝓁𝓊𝓃𝓉', pfid=0, ign='ℬ𝓁𝓊𝓃𝓉'),\n",
       " Row(discord_id=921601470221144074, discord_name='ℬ𝓁𝓊𝓃𝓉', pfid=0, ign='ℬ𝓁𝓊𝓃𝓉'),\n",
       " Row(discord_id=884426024329302097, discord_name='TTPJasonPlays', pfid=0, ign='TTPJasonPlays'),\n",
       " Row(discord_id=884426024329302097, discord_name='TTPJasonPlays', pfid=0, ign='TTPJasonPlays'),\n",
       " Row(discord_id=884426024329302097, discord_name='TTPJasonPlays', pfid=0, ign='TTPJasonPlays'),\n",
       " Row(discord_id=915103731660521493, discord_name='frickles', pfid=0, ign='frickles'),\n",
       " Row(discord_id=915103731660521493, discord_name='frickles', pfid=0, ign='frickles'),\n",
       " Row(discord_id=915103731660521493, discord_name='frickles', pfid=0, ign='frickles'),\n",
       " Row(discord_id=1156694568750809230, discord_name='Godly', pfid=0, ign='Godly'),\n",
       " Row(discord_id=1156694568750809230, discord_name='Godly', pfid=0, ign='Godly'),\n",
       " Row(discord_id=1156694568750809230, discord_name='Godly', pfid=0, ign='Godly')]"
      ]
     },
     "execution_count": 214,
     "metadata": {},
     "output_type": "execute_result"
    }
   ],
   "source": [
    "cur.execute(\"SELECT * FROM players\")\n",
    "cur.fetchall()"
   ]
  },
  {
   "cell_type": "code",
   "execution_count": 210,
   "id": "3474a918-098e-4710-b7cd-454b798d6514",
   "metadata": {},
   "outputs": [
    {
     "data": {
      "text/plain": [
       "[Row(team_id=1, team_name='tn1', discord_name='GO_STOOOBE', ign='STOOBE'),\n",
       " Row(team_id=2, team_name='tn2', discord_name='go_shovvtimex', ign='GO Showtime'),\n",
       " Row(team_id=3, team_name='tn3', discord_name='go_maverick', ign='GO Mav'),\n",
       " Row(team_id=3, team_name='tn3', discord_name='go_smartazz', ign='GO SmartAzz')]"
      ]
     },
     "execution_count": 210,
     "metadata": {},
     "output_type": "execute_result"
    }
   ],
   "source": [
    "cur.execute(\"SELECT t.team_id, t.team_name, p.discord_name, p.ign \"+\n",
    "            \"FROM teams as t, rosters as r, players as p \"+\n",
    "            \"WHERE r.team_id=t.team_id and r.discord_id=p.discord_id\")\n",
    "cur.fetchall()"
   ]
  },
  {
   "cell_type": "code",
   "execution_count": 205,
   "id": "4c5c051a-0a59-418c-8769-d6937aa65767",
   "metadata": {},
   "outputs": [
    {
     "data": {
      "text/plain": [
       "[Row(date='2024-01-20', team_id=2, discord_id=895726168140038185)]"
      ]
     },
     "execution_count": 205,
     "metadata": {},
     "output_type": "execute_result"
    }
   ],
   "source": [
    "cur.execute(\"SELECT s.date, r.team_id, r.discord_id \"+\n",
    "            \"FROM signups as s, rosters as r \"+\n",
    "            \"WHERE s.team_id=r.team_id and discord_id=895726168140038185\")\n",
    "cur.fetchall()"
   ]
  },
  {
   "cell_type": "code",
   "execution_count": 206,
   "id": "d5fef0bc-f78b-4d6c-8033-da720368fbf6",
   "metadata": {},
   "outputs": [],
   "source": [
    "import attrs"
   ]
  },
  {
   "cell_type": "code",
   "execution_count": 207,
   "id": "37b4a543-c134-4d2c-b9e0-eeb807f8a9f4",
   "metadata": {},
   "outputs": [
    {
     "data": {
      "text/plain": [
       "Row(a=1, b=2, d=3, c=4)"
      ]
     },
     "execution_count": 207,
     "metadata": {},
     "output_type": "execute_result"
    }
   ],
   "source": [
    "Row = attrs.make_class(\"Row\", [\"a\", \"b\", \"d\", \"c\"])\n",
    "Row(1,2,3,4)"
   ]
  },
  {
   "cell_type": "code",
   "execution_count": 208,
   "id": "1325c0ae-34c6-4c77-92b7-59b6084217b4",
   "metadata": {},
   "outputs": [
    {
     "data": {
      "text/plain": [
       "[Row(team_id=1)]"
      ]
     },
     "execution_count": 208,
     "metadata": {},
     "output_type": "execute_result"
    }
   ],
   "source": [
    "cur.execute(\"SELECT team_id FROM rosters WHERE discord_id=?\", (408731638223208448,))\n",
    "cur.fetchall()"
   ]
  },
  {
   "cell_type": "code",
   "execution_count": null,
   "id": "7b167a6e-cb46-467c-9d95-48910873b2fd",
   "metadata": {},
   "outputs": [],
   "source": []
  }
 ],
 "metadata": {
  "kernelspec": {
   "display_name": "Python 3 (ipykernel)",
   "language": "python",
   "name": "python3"
  },
  "language_info": {
   "codemirror_mode": {
    "name": "ipython",
    "version": 3
   },
   "file_extension": ".py",
   "mimetype": "text/x-python",
   "name": "python",
   "nbconvert_exporter": "python",
   "pygments_lexer": "ipython3",
   "version": "3.9.13"
  }
 },
 "nbformat": 4,
 "nbformat_minor": 5
}
