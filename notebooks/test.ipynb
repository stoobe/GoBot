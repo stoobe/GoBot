{
 "cells": [
  {
   "cell_type": "code",
   "execution_count": 11,
   "metadata": {},
   "outputs": [
    {
     "name": "stdout",
     "output_type": "stream",
     "text": [
      "loaded 1 active seasons\n",
      "\n",
      "Processing season:\n",
      "{'_id': ObjectId('66ab0037edc64cf2a40ce743'),\n",
      " 'league': 'GO Phoenix',\n",
      " 'season': 1,\n",
      " 'sheetname': 'Match Results Phoenix S1',\n",
      " 'url': 'https://docs.google.com/spreadsheets/d/1KqwMFmRg-BD6-BT2NcPW9_wM2vgogRCEQGq8x5DbFeI/',\n",
      " 'active': True,\n",
      " 'tabs': [{'name': 'Match Results', 'rowsread': 2512},\n",
      "          {'name': 'Screenshot Results', 'rowsread': 200}]}\n",
      "\n",
      "Processing tab {'name': 'Match Results', 'rowsread': 2512}\n",
      "Read 0 scores from \"Match Results Phoenix S1\" in tab \"Match Results\" over range A2514:KI2513\n",
      "\n",
      "Processing tab {'name': 'Screenshot Results', 'rowsread': 200}\n",
      "Read 0 scores from \"Match Results Phoenix S1\" in tab \"Screenshot Results\" over range A202:L201\n"
     ]
    }
   ],
   "source": [
    "import go.scores.scores_db as sdb\n",
    "import pprint\n",
    "\n",
    "from go.scores.scoresheet import processs_statbot_scores, read_new_statbot_scores\n",
    "\n",
    "seasons = sdb.load_active_seasons()\n",
    "\n",
    "for season in seasons:\n",
    "    print(f'\\nProcessing season:')\n",
    "    pprint.pp(season)\n",
    "    for tab in season['tabs']:\n",
    "        print(f'\\nProcessing tab {tab}')\n",
    "\n",
    "        new_scores_raw = read_new_statbot_scores(season['sheetname'], tab['name'], start_row=tab['rowsread']+2)\n",
    "        if new_scores_raw:\n",
    "            new_scores = processs_statbot_scores(season, tab, new_scores_raw)\n",
    "\n",
    "            sdb.insert_many_to_mongo(new_scores, collection_name=\"scores\")\n",
    "\n",
    "            tab['rowsread'] += len(new_scores)\n",
    "            sdb.run_bulk_updates([season], collection_name=\"seasons\")\n"
   ]
  }
 ],
 "metadata": {
  "kernelspec": {
   "display_name": ".venv",
   "language": "python",
   "name": "python3"
  },
  "language_info": {
   "codemirror_mode": {
    "name": "ipython",
    "version": 3
   },
   "file_extension": ".py",
   "mimetype": "text/x-python",
   "name": "python",
   "nbconvert_exporter": "python",
   "pygments_lexer": "ipython3",
   "version": "3.9.18"
  }
 },
 "nbformat": 4,
 "nbformat_minor": 2
}
